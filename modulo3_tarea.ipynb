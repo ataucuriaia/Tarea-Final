{
  "nbformat": 4,
  "nbformat_minor": 0,
  "metadata": {
    "colab": {
      "name": "Copy of modulo 3.ipynb",
      "provenance": [],
      "collapsed_sections": [
        "KvclreKqv6oG",
        "4MH4CoJqwGiI",
        "nao5U4jDw4jG",
        "vpguPIrPzgtU",
        "tSAkV-as0rdS",
        "pdvnfTPo6-Lq",
        "irQJwQco81wH",
        "Wnme938ANSqz",
        "8NrI0kgCOLN2",
        "N6DxNYhpO_PL",
        "Ut0OnphvWeOw",
        "qML64F41WRTX",
        "c4ojH2gyWAYW",
        "vYeRmZSCVxE8",
        "zl5-pV1XfXi1",
        "EpkCSrR6fqEh",
        "yqpTqtBrf5pF",
        "MXXM4w69aIll"
      ],
      "toc_visible": true,
      "include_colab_link": true
    },
    "kernelspec": {
      "name": "python3",
      "display_name": "Python 3"
    },
    "language_info": {
      "name": "python"
    }
  },
  "cells": [
    {
      "cell_type": "markdown",
      "metadata": {
        "id": "view-in-github",
        "colab_type": "text"
      },
      "source": [
        "<a href=\"https://colab.research.google.com/github/ataucuriaia/Tarea-Final/blob/main/modulo3_tarea.ipynb\" target=\"_parent\"><img src=\"https://colab.research.google.com/assets/colab-badge.svg\" alt=\"Open In Colab\"/></a>"
      ]
    },
    {
      "cell_type": "markdown",
      "source": [
        "<img src=\"https://www.ctic.uni.edu.pe/wp-content/uploads/2022/04/588px-x-348px-web-1.png\" alt=\"HTML5 Icon\" width=\"900\" height=\"350\" >"
      ],
      "metadata": {
        "id": "kt2I6UBTXfTx"
      }
    },
    {
      "cell_type": "markdown",
      "source": [
        "<h1 align=center><font size = 5>UNIDAD III - FUNCIONES\n",
        "</font></h1>\n",
        "\n",
        "---"
      ],
      "metadata": {
        "id": "OVQ2JpIkXhGH"
      }
    },
    {
      "cell_type": "markdown",
      "source": [
        "## Tabla de Contenidos\n",
        "\n",
        "<div class=\"alert alert-block alert-info\" style=\"margin-top: 20px\">\n",
        "\n",
        "<font size = 3>\n",
        "    \n",
        "1. <a href=\"#item31\">Definiendo funciones</a>\n",
        "2. <a href=\"#item31\">Usando información dentro de funciones</a>  \n",
        "3. <a href=\"#item31\">Valores de retorno</a>  \n",
        "4. <a href=\"#item31\">Usando funciones con loops while</a>  \n",
        "5. <a href=\"#item31\">Usando listas</a>  \n",
        "6. <a href=\"#item31\">Pasar un número arbitrario de argumentos</a>  \n",
        "7. <a href=\"#item31\">Almacenamiento de funciones con módulos</a>  \n",
        "8. <a href=\"#item31\">Clases</a>  \n",
        "\n",
        "</font>\n",
        "</div>\n",
        "\n",
        "---"
      ],
      "metadata": {
        "id": "dR78NGA6Xv_r"
      }
    },
    {
      "cell_type": "markdown",
      "source": [
        "#1. Definiendo funciones"
      ],
      "metadata": {
        "id": "WgFT9B7xYLXC"
      }
    },
    {
      "cell_type": "code",
      "source": [
        "def funcion():\n",
        "  \"\"\"Esta es la documentación de mi función\n",
        "     Esta funcion printea un mensaje de prueba\n",
        "     - Esta función no tiene parámetros\"\"\"\n",
        "  print(\"esta es una prueba\")\n"
      ],
      "metadata": {
        "id": "B_SRqc6sSuwd"
      },
      "execution_count": null,
      "outputs": []
    },
    {
      "cell_type": "code",
      "source": [
        "funcion()"
      ],
      "metadata": {
        "id": "4qMdJxlFTqId",
        "outputId": "0239272f-df83-4823-9d91-04e1d897fb66",
        "colab": {
          "base_uri": "https://localhost:8080/"
        }
      },
      "execution_count": null,
      "outputs": [
        {
          "output_type": "stream",
          "name": "stdout",
          "text": [
            "esta es una prueba\n"
          ]
        }
      ]
    },
    {
      "cell_type": "code",
      "source": [
        "funcion?"
      ],
      "metadata": {
        "id": "z_3BmhDwT3sB"
      },
      "execution_count": null,
      "outputs": []
    },
    {
      "cell_type": "code",
      "source": [
        "range?"
      ],
      "metadata": {
        "id": "zJoK2JY5oYOT"
      },
      "execution_count": null,
      "outputs": []
    },
    {
      "cell_type": "code",
      "execution_count": null,
      "metadata": {
        "id": "aegdMKDxXefq"
      },
      "outputs": [],
      "source": [
        "def greet_user():\n",
        "    \"\"\"Escribir un saludo simple.\"\"\"\n",
        "    print(\"Hola!!\")\n"
      ]
    },
    {
      "cell_type": "code",
      "source": [
        "greet_user()"
      ],
      "metadata": {
        "id": "TOZdVi5OZTRZ",
        "outputId": "9b3db4f9-e348-4e97-9f1c-6056af980f48",
        "colab": {
          "base_uri": "https://localhost:8080/"
        }
      },
      "execution_count": null,
      "outputs": [
        {
          "output_type": "stream",
          "name": "stdout",
          "text": [
            "Hola!!\n"
          ]
        }
      ]
    },
    {
      "cell_type": "code",
      "source": [
        "greet_user?"
      ],
      "metadata": {
        "id": "Kj7qdHDUUceC"
      },
      "execution_count": null,
      "outputs": []
    },
    {
      "cell_type": "markdown",
      "source": [
        "#2. Usando información dentro de funciones"
      ],
      "metadata": {
        "id": "p7e7CUC_YjWU"
      }
    },
    {
      "cell_type": "code",
      "source": [
        "def greet_user(username):\n",
        "  \"\"\"Escribir un saludo a un nombre definido\"\"\"\n",
        "  print(f\"hola, {username}!!!\")"
      ],
      "metadata": {
        "id": "7pB6XknPpme9"
      },
      "execution_count": null,
      "outputs": []
    },
    {
      "cell_type": "code",
      "source": [
        "greet_user('John')"
      ],
      "metadata": {
        "colab": {
          "base_uri": "https://localhost:8080/"
        },
        "id": "turoGhSep0IE",
        "outputId": "34160fa2-d991-42e4-b630-bd1003a89ecf"
      },
      "execution_count": null,
      "outputs": [
        {
          "output_type": "stream",
          "name": "stdout",
          "text": [
            "hola, John!!!\n"
          ]
        }
      ]
    },
    {
      "cell_type": "code",
      "source": [
        "def greet_user(username):\n",
        "  \"\"\"vamos a generar un saludo al nombre definido\"\"\"\n",
        "  print(f\"Hola, {username}!\")"
      ],
      "metadata": {
        "id": "JQ_Os2hpU4hW"
      },
      "execution_count": null,
      "outputs": []
    },
    {
      "cell_type": "code",
      "source": [
        "def greet_user(username):\n",
        "    \"\"\"Escribir un saludo simple.\"\"\"\n",
        "    print(f\"Hola, {username.title()}!\")\n"
      ],
      "metadata": {
        "id": "7_LUnJKwY7Jm"
      },
      "execution_count": null,
      "outputs": []
    },
    {
      "cell_type": "code",
      "source": [
        "greet_user('John')"
      ],
      "metadata": {
        "id": "jVoZm31qZV9O",
        "outputId": "0e8feb62-ea79-4632-d06a-9c37d45f6d00",
        "colab": {
          "base_uri": "https://localhost:8080/"
        }
      },
      "execution_count": null,
      "outputs": [
        {
          "output_type": "stream",
          "name": "stdout",
          "text": [
            "hola, John!!!\n"
          ]
        }
      ]
    },
    {
      "cell_type": "code",
      "source": [
        "greet_user('Victor')"
      ],
      "metadata": {
        "id": "NzTUG3LpVZ0W",
        "outputId": "60b33553-df0b-4198-9b14-01daf3304f6b",
        "colab": {
          "base_uri": "https://localhost:8080/"
        }
      },
      "execution_count": null,
      "outputs": [
        {
          "output_type": "stream",
          "name": "stdout",
          "text": [
            "hola, Victor!!!\n"
          ]
        }
      ]
    },
    {
      "cell_type": "code",
      "source": [
        "greet_user('Margarita')"
      ],
      "metadata": {
        "id": "Db7gK5PoVcsE",
        "outputId": "3a847878-a115-4e48-acd7-0da36135c971",
        "colab": {
          "base_uri": "https://localhost:8080/"
        }
      },
      "execution_count": null,
      "outputs": [
        {
          "output_type": "stream",
          "name": "stdout",
          "text": [
            "hola, Margarita!!!\n"
          ]
        }
      ]
    },
    {
      "cell_type": "markdown",
      "source": [
        "---\n",
        "\n",
        "<b> Ejercicio 1</b>\n",
        "\n",
        "Escriba una función llamada **display_message()** que imprima una oración que diga a todos lo que está aprendiendo en este capítulo. Llame a la función y asegúrese de que el mensaje se muestre correctamente.\n"
      ],
      "metadata": {
        "id": "D8I5O9AjZgLY"
      }
    },
    {
      "cell_type": "code",
      "source": [
        "def display_message():\n",
        "  \"\"\"Imprimir mensaje sobre lo que estamos aprendiendo\"\"\"\n",
        "  print (\"Estamos aprendiendo Python, Clase 4: Funciones\")"
      ],
      "metadata": {
        "id": "VqskZryHqXXt"
      },
      "execution_count": 84,
      "outputs": []
    },
    {
      "cell_type": "code",
      "source": [
        "display_message()"
      ],
      "metadata": {
        "colab": {
          "base_uri": "https://localhost:8080/"
        },
        "id": "7D6V_qN8qX7E",
        "outputId": "d59f4bbf-c96a-4021-8192-9265147c24fd"
      },
      "execution_count": 85,
      "outputs": [
        {
          "output_type": "stream",
          "name": "stdout",
          "text": [
            "Estamos aprendiendo Python, Clase 4: Funciones\n"
          ]
        }
      ]
    },
    {
      "cell_type": "markdown",
      "source": [
        "\n",
        "---\n",
        "\n",
        "<b> Ejercicio 2</b>\n",
        "\n",
        "Escriba una función llamada **favorite_book()** que acepte un parámetro, título. La función debe imprimir un mensaje, como Uno de mis libros favoritos es Alicia en el país de las maravillas. Llame a la función, asegurándose de incluir el título de un libro como argumento en la llamada a la función.\n",
        "\n",
        "---"
      ],
      "metadata": {
        "id": "hk_i1gS_bvyv"
      }
    },
    {
      "cell_type": "code",
      "source": [
        "def favorite_book(libro):\n",
        "  \"\"\"Esta funcion imprime tu libro favorito\"\"\"\n",
        "  print(f\"Uno de mis libros favoritos es {libro}\")"
      ],
      "metadata": {
        "id": "82xjH0fuq1xf"
      },
      "execution_count": 82,
      "outputs": []
    },
    {
      "cell_type": "code",
      "source": [
        "favorite_book(\"Harry Potter\")"
      ],
      "metadata": {
        "colab": {
          "base_uri": "https://localhost:8080/"
        },
        "id": "5OMoYE_orESs",
        "outputId": "e0e92d48-0d14-4a18-f9a1-5658aa6fd1b7"
      },
      "execution_count": 83,
      "outputs": [
        {
          "output_type": "stream",
          "name": "stdout",
          "text": [
            "Uno de mis libros favoritos es Harry Potter\n"
          ]
        }
      ]
    },
    {
      "cell_type": "markdown",
      "source": [
        "### Posición de argumentos"
      ],
      "metadata": {
        "id": "xpi4CpaLewj-"
      }
    },
    {
      "cell_type": "code",
      "source": [
        "def resta(a,b):\n",
        "  return a-b\n",
        "c = resta(10,5)*2\n",
        "print (c)"
      ],
      "metadata": {
        "id": "pdtSrn3OtF9A",
        "colab": {
          "base_uri": "https://localhost:8080/"
        },
        "outputId": "c06b6508-1230-43aa-8329-128ec6c822e8"
      },
      "execution_count": null,
      "outputs": [
        {
          "output_type": "stream",
          "name": "stdout",
          "text": [
            "10\n"
          ]
        }
      ]
    },
    {
      "cell_type": "code",
      "source": [
        "c = resta(10,5)\n",
        "c*2"
      ],
      "metadata": {
        "colab": {
          "base_uri": "https://localhost:8080/"
        },
        "id": "rnLkjvyLJ7c6",
        "outputId": "b7d8d09a-b840-4b51-ae9c-0215b18afb42"
      },
      "execution_count": null,
      "outputs": [
        {
          "output_type": "execute_result",
          "data": {
            "text/plain": [
              "10"
            ]
          },
          "metadata": {},
          "execution_count": 6
        }
      ]
    },
    {
      "cell_type": "markdown",
      "source": [
        "retorno sirve para retornor algo como objeto"
      ],
      "metadata": {
        "id": "rcMzctERJoGV"
      }
    },
    {
      "cell_type": "code",
      "source": [
        "resta(10,5)"
      ],
      "metadata": {
        "colab": {
          "base_uri": "https://localhost:8080/"
        },
        "id": "g7YhUilytK6U",
        "outputId": "50c4dc6b-8303-42dd-e829-a4dc569822fa"
      },
      "execution_count": null,
      "outputs": [
        {
          "output_type": "execute_result",
          "data": {
            "text/plain": [
              "5"
            ]
          },
          "metadata": {},
          "execution_count": 33
        }
      ]
    },
    {
      "cell_type": "code",
      "source": [
        "resta(5,10)"
      ],
      "metadata": {
        "colab": {
          "base_uri": "https://localhost:8080/"
        },
        "id": "kkMnhetZteZN",
        "outputId": "2b1b474b-47ff-458a-9877-2f14a085bc99"
      },
      "execution_count": null,
      "outputs": [
        {
          "output_type": "execute_result",
          "data": {
            "text/plain": [
              "-5"
            ]
          },
          "metadata": {},
          "execution_count": 34
        }
      ]
    },
    {
      "cell_type": "code",
      "source": [
        "resta(b=5,a=10)"
      ],
      "metadata": {
        "colab": {
          "base_uri": "https://localhost:8080/"
        },
        "id": "7MGlZ_TstgQc",
        "outputId": "c8873a3f-d96e-495d-a351-e496d340cf34"
      },
      "execution_count": null,
      "outputs": [
        {
          "output_type": "execute_result",
          "data": {
            "text/plain": [
              "5"
            ]
          },
          "metadata": {},
          "execution_count": 35
        }
      ]
    },
    {
      "cell_type": "code",
      "source": [
        "def describe_pet(animal_type, pet_name):\n",
        "  \"\"\"This function displays information about a pet.\"\"\"\n",
        "  print(f'\\nYo tengo un/una {animal_type}.')\n",
        "  print(f\"El nombre de mi {animal_type} es {pet_name}.\")\n",
        "  "
      ],
      "metadata": {
        "id": "CAB8xh1jYnIx"
      },
      "execution_count": null,
      "outputs": []
    },
    {
      "cell_type": "code",
      "source": [
        "describe_pet('tortuga', 'Simona')"
      ],
      "metadata": {
        "id": "ZZyizIlXZloM",
        "outputId": "173e28c6-8e6a-4129-c038-a07e76544428",
        "colab": {
          "base_uri": "https://localhost:8080/"
        }
      },
      "execution_count": null,
      "outputs": [
        {
          "output_type": "stream",
          "name": "stdout",
          "text": [
            "\n",
            "Yo tengo un/una tortuga.\n",
            "El nombre de mi tortuga es Simona.\n"
          ]
        }
      ]
    },
    {
      "cell_type": "code",
      "source": [
        "def describe_pet(animal_type, pet_name):\n",
        "  \"\"\"Display information about a pet.\"\"\"\n",
        "  print(f\"\\nI have a {animal_type}.\")\n",
        "  print(f\"My {animal_type}'s name is {pet_name.title()}.\")\n",
        "\n"
      ],
      "metadata": {
        "id": "7H5m3SONe45x"
      },
      "execution_count": null,
      "outputs": []
    },
    {
      "cell_type": "code",
      "source": [
        "describe_pet('hamster', 'harry')"
      ],
      "metadata": {
        "id": "5I_pcnwJe5aT",
        "outputId": "79deeb73-e6e8-431b-f9d3-9429c526ccca",
        "colab": {
          "base_uri": "https://localhost:8080/"
        }
      },
      "execution_count": null,
      "outputs": [
        {
          "output_type": "stream",
          "name": "stdout",
          "text": [
            "\n",
            "I have a hamster.\n",
            "My hamster's name is Harry.\n"
          ]
        }
      ]
    },
    {
      "cell_type": "code",
      "source": [
        "describe_pet('hamster', 'harry')\n",
        "describe_pet('dog', 'willie')"
      ],
      "metadata": {
        "id": "NA36VGAMgJ5-",
        "outputId": "868b7751-baa7-4ef3-d1be-876c1db22114",
        "colab": {
          "base_uri": "https://localhost:8080/"
        }
      },
      "execution_count": null,
      "outputs": [
        {
          "output_type": "stream",
          "name": "stdout",
          "text": [
            "\n",
            "I have a hamster.\n",
            "My hamster's name is Harry.\n",
            "\n",
            "I have a dog.\n",
            "My dog's name is Willie.\n"
          ]
        }
      ]
    },
    {
      "cell_type": "markdown",
      "source": [
        "### Importancia de la posición de los argumentos"
      ],
      "metadata": {
        "id": "-uxdnnHkhf-F"
      }
    },
    {
      "cell_type": "code",
      "source": [
        "def describe_pet(animal_type, pet_name):\n",
        "    \"\"\"Display information about a pet.\"\"\"\n",
        "    print(f\"\\nI have a {animal_type}.\")\n",
        "    print(f\"My {animal_type}'s name is {pet_name.title()}.\")\n"
      ],
      "metadata": {
        "id": "o7HR4g4ThqU_"
      },
      "execution_count": null,
      "outputs": []
    },
    {
      "cell_type": "code",
      "source": [
        "describe_pet('harry', 'hamster')"
      ],
      "metadata": {
        "id": "3BhoaFayhre-",
        "outputId": "08aef5d6-5541-48d6-e656-d41f1473be93",
        "colab": {
          "base_uri": "https://localhost:8080/"
        }
      },
      "execution_count": null,
      "outputs": [
        {
          "output_type": "stream",
          "name": "stdout",
          "text": [
            "\n",
            "I have a harry.\n",
            "My harry's name is Hamster.\n"
          ]
        }
      ]
    },
    {
      "cell_type": "markdown",
      "source": [
        "### Argumentos clave"
      ],
      "metadata": {
        "id": "dIj2FL74jEmQ"
      }
    },
    {
      "cell_type": "code",
      "source": [
        "def describe_pet(animal_type, pet_name):\n",
        "    \"\"\"Display information about a pet.\"\"\"\n",
        "    print(f\"\\nI have a {animal_type}.\")\n",
        "    print(f\"My {animal_type}'s name is {pet_name}.\")\n"
      ],
      "metadata": {
        "id": "CVrsI1ozjELB"
      },
      "execution_count": null,
      "outputs": []
    },
    {
      "cell_type": "code",
      "source": [
        "describe_pet(pet_name = 'Harry', animal_type = 'hamster')\n"
      ],
      "metadata": {
        "id": "Xls6fpdYauO8",
        "outputId": "20481a3f-d94e-4dea-b915-9e21540a1be8",
        "colab": {
          "base_uri": "https://localhost:8080/"
        }
      },
      "execution_count": null,
      "outputs": [
        {
          "output_type": "stream",
          "name": "stdout",
          "text": [
            "\n",
            "I have a hamster.\n",
            "My hamster's name is Harry.\n"
          ]
        }
      ]
    },
    {
      "cell_type": "code",
      "source": [
        "describe_pet(animal_type = 'hamster', pet_name = 'Harry')"
      ],
      "metadata": {
        "id": "J2C9Ba48bGOH",
        "outputId": "b13ccdb9-e8cf-4548-e0e4-dc0cbfad42a5",
        "colab": {
          "base_uri": "https://localhost:8080/"
        }
      },
      "execution_count": null,
      "outputs": [
        {
          "output_type": "stream",
          "name": "stdout",
          "text": [
            "\n",
            "I have a hamster.\n",
            "My hamster's name is Harry.\n"
          ]
        }
      ]
    },
    {
      "cell_type": "code",
      "source": [
        "describe_pet(animal_type='hamster', pet_name='harry')"
      ],
      "metadata": {
        "id": "B3_6pdpWjMm6",
        "outputId": "2c0f614e-9c5b-41c4-d9e7-73e8c8f5559a",
        "colab": {
          "base_uri": "https://localhost:8080/"
        }
      },
      "execution_count": null,
      "outputs": [
        {
          "output_type": "stream",
          "name": "stdout",
          "text": [
            "\n",
            "I have a hamster.\n",
            "My hamster's name is harry.\n"
          ]
        }
      ]
    },
    {
      "cell_type": "code",
      "source": [
        "describe_pet(animal_type='hamster', pet_name='harry')\n",
        "describe_pet(pet_name='harry', animal_type='hamster')"
      ],
      "metadata": {
        "id": "gnHxotr3qZ9f",
        "outputId": "cf010e79-4ea2-45fe-85d7-49ecbbb7c069",
        "colab": {
          "base_uri": "https://localhost:8080/"
        }
      },
      "execution_count": null,
      "outputs": [
        {
          "output_type": "stream",
          "name": "stdout",
          "text": [
            "\n",
            "I have a hamster.\n",
            "My hamster's name is harry.\n",
            "\n",
            "I have a hamster.\n",
            "My hamster's name is harry.\n"
          ]
        }
      ]
    },
    {
      "cell_type": "markdown",
      "source": [
        "### Valores por default"
      ],
      "metadata": {
        "id": "b4OI6nMUqdw5"
      }
    },
    {
      "cell_type": "code",
      "source": [
        "def describe_pet(pet_name,animal_type='dog'):\n",
        "    \"\"\"Display information about a pet.\"\"\"\n",
        "    print(f\"\\nI have a {animal_type}.\")\n",
        "    print(f\"My {animal_type}'s name is {pet_name.title()}.\")\n",
        "                 "
      ],
      "metadata": {
        "id": "JZKYMn3Tbk-2"
      },
      "execution_count": null,
      "outputs": []
    },
    {
      "cell_type": "code",
      "source": [
        "def describe_pet(pet_name, animal_type='dog'):\n",
        "    \"\"\"Display information about a pet.\"\"\"\n",
        "    print(f\"\\nI have a {animal_type}.\")\n",
        "    print(f\"My {animal_type}'s name is {pet_name.title()}.\")\n"
      ],
      "metadata": {
        "id": "dmslcStyqhQf"
      },
      "execution_count": null,
      "outputs": []
    },
    {
      "cell_type": "code",
      "source": [
        "describe_pet(pet_name='willie')"
      ],
      "metadata": {
        "id": "fTkw_ZRbqmCn",
        "outputId": "9e8228fa-c1cd-40a7-a3e1-9a8c00209cc5",
        "colab": {
          "base_uri": "https://localhost:8080/"
        }
      },
      "execution_count": null,
      "outputs": [
        {
          "output_type": "stream",
          "name": "stdout",
          "text": [
            "\n",
            "I have a dog.\n",
            "My dog's name is Willie.\n"
          ]
        }
      ]
    },
    {
      "cell_type": "code",
      "source": [
        "describe_pet('willie')"
      ],
      "metadata": {
        "id": "53Px7ITvqyBg",
        "colab": {
          "base_uri": "https://localhost:8080/"
        },
        "outputId": "59b9008d-5edc-4c0b-b4d3-a0b3da3891dc"
      },
      "execution_count": null,
      "outputs": [
        {
          "output_type": "stream",
          "name": "stdout",
          "text": [
            "\n",
            "I have a dog.\n",
            "My dog's name is Willie.\n"
          ]
        }
      ]
    },
    {
      "cell_type": "code",
      "source": [
        "describe_pet(pet_name='harry', animal_type='hamster')"
      ],
      "metadata": {
        "id": "Wsvo5SVorE6-",
        "outputId": "1977a940-e46c-411c-e79d-35793266d858",
        "colab": {
          "base_uri": "https://localhost:8080/"
        }
      },
      "execution_count": null,
      "outputs": [
        {
          "output_type": "stream",
          "name": "stdout",
          "text": [
            "\n",
            "I have a hamster.\n",
            "My hamster's name is Harry.\n"
          ]
        }
      ]
    },
    {
      "cell_type": "markdown",
      "source": [
        "### Llamadas a funciones equivalentes"
      ],
      "metadata": {
        "id": "Qli40ml8rNEu"
      }
    },
    {
      "cell_type": "code",
      "source": [
        "# Un perro llamado Willie.\n",
        "describe_pet('willie')\n",
        "describe_pet(pet_name='willie')"
      ],
      "metadata": {
        "id": "gRzBSP1JrrIp",
        "outputId": "d15ea872-0f0d-4cc7-a723-7724647b35bf",
        "colab": {
          "base_uri": "https://localhost:8080/"
        }
      },
      "execution_count": null,
      "outputs": [
        {
          "output_type": "stream",
          "name": "stdout",
          "text": [
            "\n",
            "I have a dog.\n",
            "My dog's name is Willie.\n",
            "\n",
            "I have a dog.\n",
            "My dog's name is Willie.\n"
          ]
        }
      ]
    },
    {
      "cell_type": "code",
      "source": [
        "# un hamster llamado Harry.\n",
        "describe_pet('harry', 'hamster')\n",
        "describe_pet(pet_name='harry', animal_type='hamster')\n",
        "describe_pet(animal_type='hamster', pet_name='harry')\n"
      ],
      "metadata": {
        "id": "sUY0rHqYrQ8n",
        "outputId": "be7d32a7-5881-40db-ab87-46b66f466cd8",
        "colab": {
          "base_uri": "https://localhost:8080/"
        }
      },
      "execution_count": null,
      "outputs": [
        {
          "output_type": "stream",
          "name": "stdout",
          "text": [
            "\n",
            "I have a hamster.\n",
            "My hamster's name is Harry.\n",
            "\n",
            "I have a hamster.\n",
            "My hamster's name is Harry.\n",
            "\n",
            "I have a hamster.\n",
            "My hamster's name is Harry.\n"
          ]
        }
      ]
    },
    {
      "cell_type": "markdown",
      "source": [
        "### Evitar errores de argumento"
      ],
      "metadata": {
        "id": "21XnPX-tssX5"
      }
    },
    {
      "cell_type": "code",
      "source": [
        "describe_pet()"
      ],
      "metadata": {
        "id": "-IP0e-bDrkhC",
        "outputId": "284ec384-d48a-40d0-8f27-57a0a8f39324",
        "colab": {
          "base_uri": "https://localhost:8080/",
          "height": 165
        }
      },
      "execution_count": null,
      "outputs": [
        {
          "output_type": "error",
          "ename": "TypeError",
          "evalue": "ignored",
          "traceback": [
            "\u001b[0;31m---------------------------------------------------------------------------\u001b[0m",
            "\u001b[0;31mTypeError\u001b[0m                                 Traceback (most recent call last)",
            "\u001b[0;32m<ipython-input-69-f95e5f55e3d1>\u001b[0m in \u001b[0;36m<module>\u001b[0;34m()\u001b[0m\n\u001b[0;32m----> 1\u001b[0;31m \u001b[0mdescribe_pet\u001b[0m\u001b[0;34m(\u001b[0m\u001b[0;34m)\u001b[0m\u001b[0;34m\u001b[0m\u001b[0;34m\u001b[0m\u001b[0m\n\u001b[0m",
            "\u001b[0;31mTypeError\u001b[0m: describe_pet() missing 1 required positional argument: 'pet_name'"
          ]
        }
      ]
    },
    {
      "cell_type": "markdown",
      "source": [
        "---\n",
        "\n",
        "<b> Ejercicio 1</b>\n",
        "\n",
        "Escribe una función llamada **make_shirt()** que acepte un tamaño y el texto de un mensaje que debería estar impreso en la camiseta. La función debe imprimir una oración que resuma el tamaño de la camisa y el mensaje impreso en ella.\n",
        "\n",
        "Llame a la función una vez usando argumentos posicionales para hacer una camisa. Llame a la función por segunda vez usando argumentos de palabras clave.\n"
      ],
      "metadata": {
        "id": "ixT6ac8IrM_m"
      }
    },
    {
      "cell_type": "code",
      "source": [
        "def make_shirt(tamano,mensaje):\n",
        "  \"\"\"La funcion impreme el tamano y mensaje de una camisa\"\"\"\n",
        "  print(f\"El tamano y mensaje de tu camisa es {tamano} y el mensaje es {mensaje}\")\n",
        "make_shirt(\"L\",\"Hola!\")"
      ],
      "metadata": {
        "colab": {
          "base_uri": "https://localhost:8080/"
        },
        "id": "sr91KAUnwcjd",
        "outputId": "5078abde-be2b-43fa-c491-557e77a1c0f5"
      },
      "execution_count": 81,
      "outputs": [
        {
          "output_type": "stream",
          "name": "stdout",
          "text": [
            "El tamano y mensaje de tu camisa es L y el mensaje es Hola!\n"
          ]
        }
      ]
    },
    {
      "cell_type": "markdown",
      "source": [
        "---\n",
        "\n",
        "<b> Ejercicio 2</b>\n",
        "\n",
        "Modifique la función **make_shirt()** para que las camisetas sean grandes por defecto con un mensaje que diga Me encanta Python. Haz una camiseta grande y una camiseta mediana con el mensaje predeterminado y una camiseta de cualquier tamaño con un mensaje diferente.\n"
      ],
      "metadata": {
        "id": "SFKpbJpntvpg"
      }
    },
    {
      "cell_type": "code",
      "source": [
        "def make_shirt(tamano =\"grande\",mensaje=\"Me encanta Python\"):\n",
        "  \"\"\"La funcion impreme el tamano y mensaje de una camisa\"\"\"\n",
        "  print(f\"El tamano y mensaje de tu camisa es {tamano} y el mensaje es {mensaje}\")\n",
        "make_shirt(\"L\",\"Hola!\")"
      ],
      "metadata": {
        "colab": {
          "base_uri": "https://localhost:8080/"
        },
        "id": "zjhGPHSdxXal",
        "outputId": "d632c09c-f980-400f-9183-86539363c395"
      },
      "execution_count": 80,
      "outputs": [
        {
          "output_type": "stream",
          "name": "stdout",
          "text": [
            "El tamano y mensaje de tu camisa es L y el mensaje es Hola!\n"
          ]
        }
      ]
    },
    {
      "cell_type": "markdown",
      "source": [
        "---\n",
        "\n",
        "<b> Ejercicio 3</b>\n",
        "\n",
        "Escribe una función llamada **describe_city()** que acepte el nombre de una ciudad y su país. La función debe imprimir una oración simple, como Reykjavik está en Islandia. Asigne al parámetro para el país un valor predeterminado. Llame a su función para tres ciudades diferentes, al menos una de las cuales no se encuentra en el país predeterminado.\n",
        "\n",
        "----"
      ],
      "metadata": {
        "id": "G0qpoz40uBJt"
      }
    },
    {
      "cell_type": "code",
      "source": [
        "def describe_city(ciudad, pais='Peru'):\n",
        "  \"\"\"La funcion imprime en que pais se encuentra la ciudad\"\"\"\n",
        "  print (f'La ciudad {ciudad} se encuentra en el pais {pais}')\n",
        "describe_city('Paris', 'Francia')\n",
        "describe_city ('Madrid', 'España')\n",
        "describe_city ('Arequipa')\n",
        "describe_city (pais='Italia', ciudad='Roma')"
      ],
      "metadata": {
        "id": "vZrfDBAcdK4V",
        "outputId": "ebd5a2f6-6f58-4c74-aaef-0cf9be60688f",
        "colab": {
          "base_uri": "https://localhost:8080/"
        }
      },
      "execution_count": 79,
      "outputs": [
        {
          "output_type": "stream",
          "name": "stdout",
          "text": [
            "La ciudad Paris se encuentra en el pais Francia\n",
            "La ciudad Madrid se encuentra en el pais España\n",
            "La ciudad Arequipa se encuentra en el pais Peru\n",
            "La ciudad Roma se encuentra en el pais Italia\n"
          ]
        }
      ]
    },
    {
      "cell_type": "markdown",
      "source": [
        "# 3. Valores de retorno"
      ],
      "metadata": {
        "id": "KvclreKqv6oG"
      }
    },
    {
      "cell_type": "markdown",
      "source": [
        "### Retornando un valor simple"
      ],
      "metadata": {
        "id": "4MH4CoJqwGiI"
      }
    },
    {
      "cell_type": "code",
      "source": [
        "def suma(a, b):\n",
        "  \"\"\"this function add two values\"\"\"\n",
        "  resultado = a + b\n",
        "  return resultado\n",
        "  "
      ],
      "metadata": {
        "id": "17hSBuN4hXzj"
      },
      "execution_count": null,
      "outputs": []
    },
    {
      "cell_type": "code",
      "source": [
        "suma(9, 15)"
      ],
      "metadata": {
        "id": "FSesr4GnhzX2",
        "outputId": "18185f3e-5668-4b07-e676-1d1f8429c7fd",
        "colab": {
          "base_uri": "https://localhost:8080/"
        }
      },
      "execution_count": null,
      "outputs": [
        {
          "output_type": "execute_result",
          "data": {
            "text/plain": [
              "24"
            ]
          },
          "metadata": {},
          "execution_count": 74
        }
      ]
    },
    {
      "cell_type": "code",
      "source": [
        "sum_res = suma(10, 15)\n",
        "sum_res*2"
      ],
      "metadata": {
        "id": "EsOHxS11hXiq",
        "outputId": "5b75d5f0-6386-4ff7-f403-7f07074403c2",
        "colab": {
          "base_uri": "https://localhost:8080/"
        }
      },
      "execution_count": null,
      "outputs": [
        {
          "output_type": "execute_result",
          "data": {
            "text/plain": [
              "50"
            ]
          },
          "metadata": {},
          "execution_count": 75
        }
      ]
    },
    {
      "cell_type": "code",
      "source": [
        "\n",
        "def get_formatted_name(first_name, last_name):\n",
        "    \"\"\"Return a full name, neatly formatted.\"\"\"\n",
        "    full_name = f\"{first_name} {last_name}\"\n",
        "    return full_name.title()\n"
      ],
      "metadata": {
        "id": "tclx-QIeuAo1"
      },
      "execution_count": null,
      "outputs": []
    },
    {
      "cell_type": "code",
      "source": [
        "get_formatted_name('jimi', 'hendrix')"
      ],
      "metadata": {
        "id": "hXeLNupPiWmg",
        "outputId": "a3398c9f-e10c-4ac4-9f78-b93aec08732c",
        "colab": {
          "base_uri": "https://localhost:8080/",
          "height": 36
        }
      },
      "execution_count": null,
      "outputs": [
        {
          "output_type": "execute_result",
          "data": {
            "text/plain": [
              "'Jimi Hendrix'"
            ],
            "application/vnd.google.colaboratory.intrinsic+json": {
              "type": "string"
            }
          },
          "metadata": {},
          "execution_count": 77
        }
      ]
    },
    {
      "cell_type": "code",
      "source": [
        "musician = get_formatted_name('jimi', 'hendrix')"
      ],
      "metadata": {
        "id": "C5YJZL-VibbL"
      },
      "execution_count": null,
      "outputs": []
    },
    {
      "cell_type": "code",
      "source": [
        "print(musician)"
      ],
      "metadata": {
        "id": "6ddSYS13iiQY",
        "outputId": "62e8b2d7-054e-4653-aa1f-8c06dfeea58a",
        "colab": {
          "base_uri": "https://localhost:8080/"
        }
      },
      "execution_count": null,
      "outputs": [
        {
          "output_type": "stream",
          "name": "stdout",
          "text": [
            "Jimi Hendrix\n"
          ]
        }
      ]
    },
    {
      "cell_type": "code",
      "source": [
        "musician = get_formatted_name('jimi', 'hendrix')\n",
        "print(musician)"
      ],
      "metadata": {
        "id": "27sXBuEKwOim",
        "outputId": "aa28f79e-443e-486c-885c-1607e28cf5c1",
        "colab": {
          "base_uri": "https://localhost:8080/"
        }
      },
      "execution_count": null,
      "outputs": [
        {
          "output_type": "stream",
          "name": "stdout",
          "text": [
            "Jimi Hendrix\n"
          ]
        }
      ]
    },
    {
      "cell_type": "markdown",
      "source": [
        "### Argumento opcional"
      ],
      "metadata": {
        "id": "nao5U4jDw4jG"
      }
    },
    {
      "cell_type": "code",
      "source": [
        "def get_formatted_name(first_name, middle_name, last_name):\n",
        "    \"\"\"Return a full name, neatly formatted.\"\"\"\n",
        "    full_name = f\"{first_name} {middle_name} {last_name}\"\n",
        "    return full_name.title()\n"
      ],
      "metadata": {
        "id": "EeNB31AJw33c"
      },
      "execution_count": null,
      "outputs": []
    },
    {
      "cell_type": "code",
      "source": [
        "musician = get_formatted_name('john', 'lee', 'hooker')\n",
        "print(musician)"
      ],
      "metadata": {
        "id": "vAPRn5tyw-Hf",
        "outputId": "5147aea8-265d-435c-c8ee-a66aeb7e1da0",
        "colab": {
          "base_uri": "https://localhost:8080/"
        }
      },
      "execution_count": null,
      "outputs": [
        {
          "output_type": "stream",
          "name": "stdout",
          "text": [
            "John Lee Hooker\n"
          ]
        }
      ]
    },
    {
      "cell_type": "code",
      "source": [
        "def get_formatted_name(first_name, last_name, middle_name=''):\n",
        "  \"\"\"Return a full name\"\"\"\n",
        "  if middle_name:\n",
        "    full_name = f\"{first_name} {middle_name} {last_name}\"\n",
        "  else:\n",
        "    full_name = f\"{first_name} {last_name}\"\n",
        "  return full_name.title()\n"
      ],
      "metadata": {
        "id": "_dFbUYqVjA_T"
      },
      "execution_count": null,
      "outputs": []
    },
    {
      "cell_type": "code",
      "source": [
        "def get_formatted_name(first_name, last_name, middle_name=''):\n",
        "  \"\"\"Return a full name, neatly formatted.\"\"\"\n",
        "  if middle_name:\n",
        "    full_name = f\"{first_name} {middle_name} {last_name}\"\n",
        "  else:\n",
        "    full_name = f\"{first_name} {last_name}\"\n",
        "  return full_name.title()\n",
        "  "
      ],
      "metadata": {
        "id": "8DUIP8RNx0ep"
      },
      "execution_count": null,
      "outputs": []
    },
    {
      "cell_type": "code",
      "source": [
        "musician = get_formatted_name('jimi', 'hendrix')\n",
        "print(musician)"
      ],
      "metadata": {
        "id": "4AVIjrmZyFAA",
        "outputId": "9c7948ec-b43c-43dc-9647-58bbf0e17f05",
        "colab": {
          "base_uri": "https://localhost:8080/"
        }
      },
      "execution_count": null,
      "outputs": [
        {
          "output_type": "stream",
          "name": "stdout",
          "text": [
            "Jimi Hendrix\n"
          ]
        }
      ]
    },
    {
      "cell_type": "code",
      "source": [
        "musician = get_formatted_name('john', 'hooker', 'lee')\n",
        "print(musician)"
      ],
      "metadata": {
        "id": "MdzB5-zhzC47",
        "outputId": "17401da6-e117-4e29-cb6b-89ca8c3ddd69",
        "colab": {
          "base_uri": "https://localhost:8080/"
        }
      },
      "execution_count": null,
      "outputs": [
        {
          "output_type": "stream",
          "name": "stdout",
          "text": [
            "John Lee Hooker\n"
          ]
        }
      ]
    },
    {
      "cell_type": "markdown",
      "source": [
        "### Retornar un diccionario"
      ],
      "metadata": {
        "id": "vpguPIrPzgtU"
      }
    },
    {
      "cell_type": "code",
      "source": [
        "diccionario = {'John': 'Es el docente de la clase', \n",
        "               'Ivan': 'Aprobó el curso', \n",
        "               'Pedro': 'Desaprobó el curos'}"
      ],
      "metadata": {
        "id": "fr8_U8QKM1Aw"
      },
      "execution_count": null,
      "outputs": []
    },
    {
      "cell_type": "code",
      "source": [
        "diccionario['John']"
      ],
      "metadata": {
        "colab": {
          "base_uri": "https://localhost:8080/"
        },
        "id": "DH6znqYoOEm2",
        "outputId": "b2b522e1-acfd-4636-9b35-f1687d824bbf"
      },
      "execution_count": null,
      "outputs": [
        {
          "output_type": "execute_result",
          "data": {
            "text/plain": [
              "'Es el docente de la clase'"
            ],
            "application/vnd.google.colaboratory.intrinsic+json": {
              "type": "string"
            }
          },
          "metadata": {},
          "execution_count": 88
        }
      ]
    },
    {
      "cell_type": "code",
      "source": [
        "diccionario['Antonio'] = 'Aprobó el curso, hubo un error en la calificación'"
      ],
      "metadata": {
        "id": "iTDhW0G2NNH9"
      },
      "execution_count": null,
      "outputs": []
    },
    {
      "cell_type": "code",
      "source": [
        "diccionario['Antonio']"
      ],
      "metadata": {
        "colab": {
          "base_uri": "https://localhost:8080/"
        },
        "id": "b01pVOP2N-nF",
        "outputId": "96b3c88a-7fb1-40ad-9fdc-54a3d2230d93"
      },
      "execution_count": null,
      "outputs": [
        {
          "output_type": "execute_result",
          "data": {
            "text/plain": [
              "'Aprobó el curso, hubo un error en la calificación'"
            ],
            "application/vnd.google.colaboratory.intrinsic+json": {
              "type": "string"
            }
          },
          "metadata": {},
          "execution_count": 90
        }
      ]
    },
    {
      "cell_type": "code",
      "source": [
        "my_dict = {'EN01': \"Clases de ingles\",\n",
        "           'PY02': \"Clases de python\",\n",
        "           'MU03': \"Clases de musica\"}\n",
        "\n"
      ],
      "metadata": {
        "id": "WRoRgzkKk6or"
      },
      "execution_count": null,
      "outputs": []
    },
    {
      "cell_type": "code",
      "source": [
        "my_dict['PY02']"
      ],
      "metadata": {
        "id": "5OPHWg2llbFL",
        "outputId": "51407642-4320-4085-c50c-66891ecb77fe",
        "colab": {
          "base_uri": "https://localhost:8080/"
        }
      },
      "execution_count": null,
      "outputs": [
        {
          "output_type": "execute_result",
          "data": {
            "text/plain": [
              "'Clases de python'"
            ],
            "application/vnd.google.colaboratory.intrinsic+json": {
              "type": "string"
            }
          },
          "metadata": {},
          "execution_count": 92
        }
      ]
    },
    {
      "cell_type": "code",
      "source": [
        "my_dict['DA04'] = \"Clases de danza\""
      ],
      "metadata": {
        "id": "EbgvJud4lxiF"
      },
      "execution_count": null,
      "outputs": []
    },
    {
      "cell_type": "code",
      "source": [
        "my_dict"
      ],
      "metadata": {
        "id": "zUESmXDgl471",
        "outputId": "0ed32cff-79ed-4ce6-9ab5-628de8686960",
        "colab": {
          "base_uri": "https://localhost:8080/"
        }
      },
      "execution_count": null,
      "outputs": [
        {
          "output_type": "execute_result",
          "data": {
            "text/plain": [
              "{'EN01': 'Clases de ingles',\n",
              " 'PY02': 'Clases de python',\n",
              " 'MU03': 'Clases de musica',\n",
              " 'DA04': 'Clases de danza'}"
            ]
          },
          "metadata": {},
          "execution_count": 94
        }
      ]
    },
    {
      "cell_type": "code",
      "source": [
        "def build_person(first_name, last_name):\n",
        "  \"\"\"Return a dictionary of information about a person.\"\"\"\n",
        "  person = {'first': first_name, 'last': last_name}\n",
        "  return person\n"
      ],
      "metadata": {
        "id": "YI9nCBdEzxk0"
      },
      "execution_count": null,
      "outputs": []
    },
    {
      "cell_type": "code",
      "source": [
        "build_person('jimi', 'hendrix')"
      ],
      "metadata": {
        "colab": {
          "base_uri": "https://localhost:8080/"
        },
        "id": "p7nkxj8vPUZW",
        "outputId": "1d24a1cc-7938-4c29-d1bc-1a51e795fa77"
      },
      "execution_count": null,
      "outputs": [
        {
          "output_type": "execute_result",
          "data": {
            "text/plain": [
              "{'first': 'jimi', 'last': 'hendrix'}"
            ]
          },
          "metadata": {},
          "execution_count": 96
        }
      ]
    },
    {
      "cell_type": "code",
      "source": [
        "musician = build_person('jimi', 'hendrix')\n",
        "print(musician)"
      ],
      "metadata": {
        "id": "z2mXqnXI0Jet",
        "outputId": "95fdfdc8-2595-460b-fb37-3ea06b5fe603",
        "colab": {
          "base_uri": "https://localhost:8080/"
        }
      },
      "execution_count": null,
      "outputs": [
        {
          "output_type": "stream",
          "name": "stdout",
          "text": [
            "{'first': 'jimi', 'last': 'hendrix'}\n"
          ]
        }
      ]
    },
    {
      "cell_type": "code",
      "source": [
        "def build_person(first_name, last_name, age=None):\n",
        "    \"\"\"Return a dictionary of information about a person.\"\"\"\n",
        "    person = {'first': first_name, 'last': last_name}\n",
        "    if age:\n",
        "        person['age'] = age\n",
        "    return person\n"
      ],
      "metadata": {
        "id": "3Pw2MCrY0gqb"
      },
      "execution_count": null,
      "outputs": []
    },
    {
      "cell_type": "code",
      "source": [
        "musician = build_person('jimi', 'hendrix', age=27)\n",
        "print(musician)"
      ],
      "metadata": {
        "colab": {
          "base_uri": "https://localhost:8080/"
        },
        "id": "_7hf5yuE0iS0",
        "outputId": "97d99518-9d57-48de-ecc4-25e9ba3630d1"
      },
      "execution_count": null,
      "outputs": [
        {
          "output_type": "stream",
          "name": "stdout",
          "text": [
            "{'first': 'jimi', 'last': 'hendrix', 'age': 27}\n"
          ]
        }
      ]
    },
    {
      "cell_type": "code",
      "source": [
        "musician = build_person('jimi', 'hendrix')\n",
        "print(musician)"
      ],
      "metadata": {
        "id": "524-cV8DnDs2",
        "outputId": "89956382-535d-43bf-fe3f-b7dfb4808195",
        "colab": {
          "base_uri": "https://localhost:8080/"
        }
      },
      "execution_count": null,
      "outputs": [
        {
          "output_type": "stream",
          "name": "stdout",
          "text": [
            "{'first': 'jimi', 'last': 'hendrix'}\n"
          ]
        }
      ]
    },
    {
      "cell_type": "markdown",
      "source": [
        "# 4. Usando funciones con loops while"
      ],
      "metadata": {
        "id": "tSAkV-as0rdS"
      }
    },
    {
      "cell_type": "code",
      "source": [
        "def get_formatted_name(first_name, last_name):\n",
        "    \"\"\"Return a full name, neatly formatted.\"\"\"\n",
        "    full_name = f\"{first_name} {last_name}\"\n",
        "    return full_name\n"
      ],
      "metadata": {
        "id": "c0OXOywJ1G3J"
      },
      "execution_count": null,
      "outputs": []
    },
    {
      "cell_type": "code",
      "source": [
        "\n",
        "# Este es un loop infinito!\n",
        "while True:\n",
        "    print(\"\\nPlease tell me your name:\")\n",
        "    f_name = input(\"First name: \")\n",
        "    l_name = input(\"Last name: \")\n",
        "    formatted_name = get_formatted_name(f_name, l_name)\n",
        "    print(f\"\\nHello, {formatted_name}!\")\n"
      ],
      "metadata": {
        "id": "zcGug0pB1IXp"
      },
      "execution_count": null,
      "outputs": []
    },
    {
      "cell_type": "code",
      "source": [
        "def get_formatted_name(first_name, last_name):\n",
        "    \"\"\"Return a full name, neatly formatted.\"\"\"\n",
        "    full_name = f\"{first_name} {last_name}\"\n",
        "    return full_name\n",
        "\n",
        "while True:\n",
        "    print(\"\\nPlease tell me your name:\")\n",
        "    print(\"(enter 'quit' at any time to quit)\")\n",
        "\n",
        "    f_name = input(\"First name: \")\n",
        "    if f_name == 'quit':\n",
        "        break\n",
        "\n",
        "    l_name = input(\"Last name: \")\n",
        "    if l_name == 'quit':\n",
        "        break\n",
        "\n",
        "    formatted_name = get_formatted_name(f_name, l_name)\n",
        "    print(f\"\\nHello, {formatted_name}!\")"
      ],
      "metadata": {
        "id": "s6o4iZze1INO",
        "outputId": "c2f14961-506c-4e3d-966f-cccdc1096e73",
        "colab": {
          "base_uri": "https://localhost:8080/"
        }
      },
      "execution_count": null,
      "outputs": [
        {
          "name": "stdout",
          "output_type": "stream",
          "text": [
            "\n",
            "Please tell me your name:\n",
            "(enter 'quit' at any time to quit)\n",
            "First name: ivan\n",
            "Last name: ataucuri\n",
            "\n",
            "Hello, ivan ataucuri!\n",
            "\n",
            "Please tell me your name:\n",
            "(enter 'quit' at any time to quit)\n",
            "First name: quit\n"
          ]
        }
      ]
    },
    {
      "cell_type": "markdown",
      "source": [
        "---\n",
        "\n",
        "<b> Ejercicio 1</b>\n",
        "\n",
        "Escribe una función llamada **city_country()** que tome el nombre de una ciudad y su país. La función debería devolver una cadena con el formato siguiente:\n",
        "\n",
        "\"Santiago, Chile\"\n",
        "\n",
        "Llame a su función con al menos tres pares de ciudades y países e imprima los valores que se devuelven.\n"
      ],
      "metadata": {
        "id": "WtFtOrbS4BzE"
      }
    },
    {
      "cell_type": "code",
      "source": [
        "def city_country(ciudades, paises):\n",
        "   \"\"\" retorna paises y ciudades\"\"\"\n",
        "   full_city = f\" {ciudades}, {paises} \"\n",
        "   return full_city.title()"
      ],
      "metadata": {
        "id": "ZJPawV8Hh1uc"
      },
      "execution_count": 76,
      "outputs": []
    },
    {
      "cell_type": "code",
      "source": [
        "city_country('lima','peru')"
      ],
      "metadata": {
        "colab": {
          "base_uri": "https://localhost:8080/",
          "height": 36
        },
        "id": "GWh1xIhhh3MX",
        "outputId": "bb26d8e2-1af0-4804-c24f-5cc490271d34"
      },
      "execution_count": 77,
      "outputs": [
        {
          "output_type": "execute_result",
          "data": {
            "text/plain": [
              "' Lima, Peru '"
            ],
            "application/vnd.google.colaboratory.intrinsic+json": {
              "type": "string"
            }
          },
          "metadata": {},
          "execution_count": 77
        }
      ]
    },
    {
      "cell_type": "code",
      "source": [
        "def city_country(ciudades, paises):\n",
        "   \"\"\" retorna paises y ciudades\"\"\"\n",
        "   full_city = f\" {ciudades}, {paises} \"\n",
        "   return full_city.title()\n",
        "\n",
        "while True:\n",
        "   print(\"Escriba quit si desea salir\")\n",
        "\n",
        "   f_ciudades = input(\"Ciudad: \")\n",
        "   if f_ciudades =='quit':\n",
        "       break\n",
        "\n",
        "   f_paises = input(\"Pais: \")\n",
        "   if f_paises == 'quit':\n",
        "       break\n",
        "   city_completed = city_country(f_ciudades, f_paises)\n",
        "   print(f\"{city_completed}\")\n"
      ],
      "metadata": {
        "id": "WSb8L5D2yJwU",
        "outputId": "49f6480f-bf2f-460d-9abd-4bbf122a6585",
        "colab": {
          "base_uri": "https://localhost:8080/"
        }
      },
      "execution_count": 78,
      "outputs": [
        {
          "name": "stdout",
          "output_type": "stream",
          "text": [
            "Escriba quit si desea salir\n",
            "Ciudad: lima\n",
            "Pais: peru\n",
            " Lima, Peru \n",
            "Escriba quit si desea salir\n",
            "Ciudad: quit\n"
          ]
        }
      ]
    },
    {
      "cell_type": "markdown",
      "source": [
        "---\n",
        "\n",
        "<b> Ejercicio 2</b>\n",
        "\n",
        "Escriba una función llamada **make_album()** que cree un diccionario que describa un álbum de música. La función debe tomar el nombre de un artista y el título de un álbum, y debe devolver un diccionario que contenga estos dos datos. Utilice la función para crear tres diccionarios que representen diferentes álbumes. Imprima cada valor devuelto para mostrar que los diccionarios están almacenando la información del álbum correctamente.\n",
        "\n",
        "Use <b>None</b> para agregar un parámetro opcional a **make_album()** que le permita almacenar la cantidad de canciones en un álbum. Si la línea de llamada incluye un valor para la cantidad de canciones, agregue ese valor al diccionario del álbum. Realice al menos una nueva llamada de función que incluya la cantidad de canciones en un álbum."
      ],
      "metadata": {
        "id": "z06Pz7sy4YG0"
      }
    },
    {
      "cell_type": "code",
      "source": [
        "def make_album(artista, album, canciones=None):\n",
        "    \"\"\"La funcion devuelve la descripcion de un album de musica.\"\"\"\n",
        "    musica = {'art': artista, 'alb': album}\n",
        "    if canciones:\n",
        "        musica['canciones'] = canciones\n",
        "    return musica"
      ],
      "metadata": {
        "id": "o6iXK41nR6U1"
      },
      "execution_count": 72,
      "outputs": []
    },
    {
      "cell_type": "code",
      "source": [
        "make_album('luis miguel','romantica')"
      ],
      "metadata": {
        "id": "eXe90mtISARg",
        "outputId": "7bb16db7-68f3-49de-efaf-01602fa0bc9b",
        "colab": {
          "base_uri": "https://localhost:8080/"
        }
      },
      "execution_count": 74,
      "outputs": [
        {
          "output_type": "execute_result",
          "data": {
            "text/plain": [
              "{'art': 'luis miguel', 'alb': 'romantica'}"
            ]
          },
          "metadata": {},
          "execution_count": 74
        }
      ]
    },
    {
      "cell_type": "code",
      "source": [
        "make_album('alonso','salsa',10)"
      ],
      "metadata": {
        "colab": {
          "base_uri": "https://localhost:8080/"
        },
        "id": "dPkYt8eGVs2m",
        "outputId": "46358d2b-f337-46c2-b237-f1bd17a9dae1"
      },
      "execution_count": 75,
      "outputs": [
        {
          "output_type": "execute_result",
          "data": {
            "text/plain": [
              "{'art': 'alonso', 'alb': 'salsa', 'canciones': 10}"
            ]
          },
          "metadata": {},
          "execution_count": 75
        }
      ]
    },
    {
      "cell_type": "markdown",
      "source": [
        "---\n",
        "\n",
        "<b> Ejercicio 3</b>\n",
        "\n",
        "Comience con su programa del ejercicio anterior. Escriba un ciclo while que permita a los usuarios ingresar el artista y el título de un álbum. Una vez que tenga esa información, llame a **make_album()** con la entrada del usuario e imprima el diccionario que se crea. Asegúrese de incluir un valor de salida en el ciclo while.\n",
        "\n",
        "---"
      ],
      "metadata": {
        "id": "5iazrd6w5n-m"
      }
    },
    {
      "cell_type": "code",
      "source": [
        "def make_album(artista, album, canciones=None):\n",
        "    \"\"\"La funcion devuelve la descripcion de un album de musica.\"\"\"\n",
        "    musica = {'art': artista, 'alb': album}\n",
        "    if canciones:\n",
        "        musica['canciones'] = canciones\n",
        "    return(musica)\n",
        "while True:\n",
        "   print(\"Escriba quit si desea salir\")\n",
        "\n",
        "   f_artistas = input(\"Artista: \")\n",
        "   if f_artistas =='quit':\n",
        "       break\n",
        "\n",
        "   f_albumes = input(\"Album: \")\n",
        "   if f_albumes == 'quit':\n",
        "       break\n",
        "   f_cancioness = input(\"Canciones: \")\n",
        "   if f_cancioness == 'quit':\n",
        "       break\n",
        "   print(make_album(f_artistas, f_albumes,f_cancioness))"
      ],
      "metadata": {
        "colab": {
          "base_uri": "https://localhost:8080/"
        },
        "id": "ohuqt6p9Umlu",
        "outputId": "2647786c-11dc-4a09-ae41-0495905fdfda"
      },
      "execution_count": null,
      "outputs": [
        {
          "name": "stdout",
          "output_type": "stream",
          "text": [
            "Escriba quit si desea salir\n",
            "Artista: alonso\n",
            "Album: salsa\n",
            "Canciones: 10\n",
            "{'art': 'alonso', 'alb': 'salsa', 'canciones': '10'}\n",
            "Escriba quit si desea salir\n",
            "Artista: quir\n",
            "Album: quit\n"
          ]
        }
      ]
    },
    {
      "cell_type": "markdown",
      "source": [
        "# 5. Usando Listas"
      ],
      "metadata": {
        "id": "pdvnfTPo6-Lq"
      }
    },
    {
      "cell_type": "code",
      "source": [
        "def greet_users(names):\n",
        "  \"\"\"Imprime un saludo a cada usuario\"\"\"\n",
        "  for name in names:\n",
        "    msg = f\"Hola, {name}!\"\n",
        "    print(msg)"
      ],
      "metadata": {
        "id": "USvu9uNBaZZI"
      },
      "execution_count": null,
      "outputs": []
    },
    {
      "cell_type": "code",
      "source": [
        "greet_users(['alonso','cinthia','eva'])"
      ],
      "metadata": {
        "colab": {
          "base_uri": "https://localhost:8080/"
        },
        "id": "SRqi2C7oapr-",
        "outputId": "0359b3b8-4af9-4fc7-8f45-cfe6791e6c68"
      },
      "execution_count": null,
      "outputs": [
        {
          "output_type": "stream",
          "name": "stdout",
          "text": [
            "Hola, alonso!\n",
            "Hola, cinthia!\n",
            "Hola, eva!\n"
          ]
        }
      ]
    },
    {
      "cell_type": "code",
      "source": [
        "def greet_users(names):\n",
        "    \"\"\"Print a simple greeting to each user in the list.\"\"\"\n",
        "    for name in names:\n",
        "      msg = f\"Hola, {name}!\"\n",
        "      print(msg)"
      ],
      "metadata": {
        "id": "4dRXDc0j1Cbw"
      },
      "execution_count": null,
      "outputs": []
    },
    {
      "cell_type": "code",
      "source": [
        "greet_users(['John', 'Tamara', 'Fernando'])"
      ],
      "metadata": {
        "id": "p9ZGdx5H1Smm",
        "outputId": "8f5c93e9-3774-4fc9-ba1c-eb8a2d2deb1a",
        "colab": {
          "base_uri": "https://localhost:8080/"
        }
      },
      "execution_count": null,
      "outputs": [
        {
          "output_type": "stream",
          "name": "stdout",
          "text": [
            "Hola, John!\n",
            "Hola, Tamara!\n",
            "Hola, Fernando!\n"
          ]
        }
      ]
    },
    {
      "cell_type": "code",
      "source": [
        "def greet_users(names):\n",
        "    \"\"\"Print a simple greeting to each user in the list.\"\"\"\n",
        "    for name in names:\n",
        "        msg = f\"Hello, {name.title()}!\"\n",
        "        print(msg)\n"
      ],
      "metadata": {
        "id": "BGbejE2r4A1P"
      },
      "execution_count": null,
      "outputs": []
    },
    {
      "cell_type": "code",
      "source": [
        "usernames = ['hannah', 'ty', 'margot']\n",
        "greet_users(usernames)"
      ],
      "metadata": {
        "id": "TfEjqeW08hQV",
        "colab": {
          "base_uri": "https://localhost:8080/"
        },
        "outputId": "bc3b870e-5c10-46b1-ac61-d3342d87f1e3"
      },
      "execution_count": null,
      "outputs": [
        {
          "output_type": "stream",
          "name": "stdout",
          "text": [
            "Hello, Hannah!\n",
            "Hello, Ty!\n",
            "Hello, Margot!\n"
          ]
        }
      ]
    },
    {
      "cell_type": "markdown",
      "source": [
        "### Modificar una lista en una función"
      ],
      "metadata": {
        "id": "irQJwQco81wH"
      }
    },
    {
      "cell_type": "code",
      "source": [
        "unprinted_designs = ['phone case', 'robot pendant', 'dodecahedron']\n",
        "unprinted_designs"
      ],
      "metadata": {
        "id": "XqjKX2vW2Djg",
        "outputId": "cb51b7f4-d627-4fdc-ab64-ddf495e09d86",
        "colab": {
          "base_uri": "https://localhost:8080/"
        }
      },
      "execution_count": null,
      "outputs": [
        {
          "output_type": "execute_result",
          "data": {
            "text/plain": [
              "['phone case', 'robot pendant', 'dodecahedron']"
            ]
          },
          "metadata": {},
          "execution_count": 109
        }
      ]
    },
    {
      "cell_type": "code",
      "source": [
        "unprinted_designs.pop()\n"
      ],
      "metadata": {
        "id": "-i80y_zF2Bed",
        "outputId": "79dfa292-cb65-4d48-bdec-f45ed50c7de1",
        "colab": {
          "base_uri": "https://localhost:8080/",
          "height": 36
        }
      },
      "execution_count": null,
      "outputs": [
        {
          "output_type": "execute_result",
          "data": {
            "text/plain": [
              "'dodecahedron'"
            ],
            "application/vnd.google.colaboratory.intrinsic+json": {
              "type": "string"
            }
          },
          "metadata": {},
          "execution_count": 106
        }
      ]
    },
    {
      "cell_type": "code",
      "source": [
        "unprinted_designs"
      ],
      "metadata": {
        "id": "pmlp8rXN2Lt6",
        "outputId": "56f33791-44f3-4e39-db62-e7117bcdef56",
        "colab": {
          "base_uri": "https://localhost:8080/"
        }
      },
      "execution_count": null,
      "outputs": [
        {
          "output_type": "execute_result",
          "data": {
            "text/plain": [
              "['phone case', 'robot pendant']"
            ]
          },
          "metadata": {},
          "execution_count": 107
        }
      ]
    },
    {
      "cell_type": "code",
      "source": [
        "unprinted_designs.pop(0)"
      ],
      "metadata": {
        "colab": {
          "base_uri": "https://localhost:8080/",
          "height": 36
        },
        "id": "BCKt4XTJbUmg",
        "outputId": "1627b544-54d2-44d8-9111-684b8ce9bb78"
      },
      "execution_count": null,
      "outputs": [
        {
          "output_type": "execute_result",
          "data": {
            "text/plain": [
              "'phone case'"
            ],
            "application/vnd.google.colaboratory.intrinsic+json": {
              "type": "string"
            }
          },
          "metadata": {},
          "execution_count": 66
        }
      ]
    },
    {
      "cell_type": "code",
      "source": [
        "unprinted_designs"
      ],
      "metadata": {
        "colab": {
          "base_uri": "https://localhost:8080/"
        },
        "id": "OmoBvmUybWvW",
        "outputId": "541b66f1-6e4f-4ef2-a2b5-720332eaa7ff"
      },
      "execution_count": null,
      "outputs": [
        {
          "output_type": "execute_result",
          "data": {
            "text/plain": [
              "['robot pendant']"
            ]
          },
          "metadata": {},
          "execution_count": 67
        }
      ]
    },
    {
      "cell_type": "code",
      "source": [
        "unprinted_designs[2]"
      ],
      "metadata": {
        "colab": {
          "base_uri": "https://localhost:8080/",
          "height": 36
        },
        "id": "WZbtRv9Yb2Wr",
        "outputId": "0d5e81c9-1409-49dd-a1e7-8e38a87295e8"
      },
      "execution_count": null,
      "outputs": [
        {
          "output_type": "execute_result",
          "data": {
            "text/plain": [
              "'dodecahedron'"
            ],
            "application/vnd.google.colaboratory.intrinsic+json": {
              "type": "string"
            }
          },
          "metadata": {},
          "execution_count": 110
        }
      ]
    },
    {
      "cell_type": "code",
      "source": [
        "unprinted_designs"
      ],
      "metadata": {
        "colab": {
          "base_uri": "https://localhost:8080/"
        },
        "id": "L9P3-0vmb-35",
        "outputId": "f8c108b2-e844-4241-ba71-defd15db9df0"
      },
      "execution_count": null,
      "outputs": [
        {
          "output_type": "execute_result",
          "data": {
            "text/plain": [
              "['phone case', 'robot pendant', 'dodecahedron']"
            ]
          },
          "metadata": {},
          "execution_count": 111
        }
      ]
    },
    {
      "cell_type": "code",
      "source": [
        "del unprinted_designs[2]\n",
        "unprinted_designs"
      ],
      "metadata": {
        "colab": {
          "base_uri": "https://localhost:8080/"
        },
        "id": "aU4i4GF3b8SU",
        "outputId": "caf48fd1-a3b5-48d3-c2b1-5a6c9e5bbe08"
      },
      "execution_count": null,
      "outputs": [
        {
          "output_type": "execute_result",
          "data": {
            "text/plain": [
              "['phone case', 'robot pendant']"
            ]
          },
          "metadata": {},
          "execution_count": 112
        }
      ]
    },
    {
      "cell_type": "code",
      "source": [
        "completed_models = []"
      ],
      "metadata": {
        "id": "cGnEviba2fUf"
      },
      "execution_count": null,
      "outputs": []
    },
    {
      "cell_type": "code",
      "source": [
        "completed_models.append('John')"
      ],
      "metadata": {
        "id": "fdEvjPMq2hBN"
      },
      "execution_count": null,
      "outputs": []
    },
    {
      "cell_type": "code",
      "source": [
        "completed_models"
      ],
      "metadata": {
        "id": "6w1LVHrt2kCw",
        "outputId": "ff8c42f8-3559-4f7e-b532-027cb54652c3",
        "colab": {
          "base_uri": "https://localhost:8080/"
        }
      },
      "execution_count": null,
      "outputs": [
        {
          "output_type": "execute_result",
          "data": {
            "text/plain": [
              "['John']"
            ]
          },
          "metadata": {},
          "execution_count": 115
        }
      ]
    },
    {
      "cell_type": "code",
      "source": [
        "completed_models.append('Ivan')"
      ],
      "metadata": {
        "id": "Olrh-DpwcJWn"
      },
      "execution_count": null,
      "outputs": []
    },
    {
      "cell_type": "code",
      "source": [
        "completed_models"
      ],
      "metadata": {
        "colab": {
          "base_uri": "https://localhost:8080/"
        },
        "id": "zctAqiOScK-_",
        "outputId": "0fa89386-88e4-48e3-ef23-215a265a97f6"
      },
      "execution_count": null,
      "outputs": [
        {
          "output_type": "execute_result",
          "data": {
            "text/plain": [
              "['John', 'Ivan']"
            ]
          },
          "metadata": {},
          "execution_count": 117
        }
      ]
    },
    {
      "cell_type": "code",
      "source": [
        "# Comience con algunos diseños que deben imprimirse.\n",
        "unprinted_designs = ['phone case', 'robot pendant', 'dodecahedron']\n",
        "completed_models = []\n",
        "\n",
        "# Simule la impresión de cada diseño, hasta que no quede ninguno.\n",
        "# Mueva cada diseño a complete_models después de la impresión.\n",
        "while unprinted_designs:\n",
        "    current_design = unprinted_designs.pop()\n",
        "    print(f\"Printing model: {current_design}\")\n",
        "    completed_models.append(current_design)\n",
        "\n",
        "# Mostrar todos los modelos completados.\n",
        "print(\"\\nThe following models have been printed:\")\n",
        "for completed_model in completed_models:\n",
        "    print(f\"\\t {completed_model}\")"
      ],
      "metadata": {
        "id": "68vDvNTE85BG",
        "outputId": "bb88f827-dc65-4f53-cb73-3f4e3dabd402",
        "colab": {
          "base_uri": "https://localhost:8080/"
        }
      },
      "execution_count": null,
      "outputs": [
        {
          "output_type": "stream",
          "name": "stdout",
          "text": [
            "Printing model: dodecahedron\n",
            "Printing model: robot pendant\n",
            "Printing model: phone case\n",
            "\n",
            "The following models have been printed:\n",
            "\t dodecahedron\n",
            "\t robot pendant\n",
            "\t phone case\n"
          ]
        }
      ]
    },
    {
      "cell_type": "code",
      "source": [
        "\n",
        "def print_models(unprinted_designs, completed_models):\n",
        "    \"\"\"\n",
        "    Simulate printing each design, until none are left.\n",
        "    Move each design to completed_models after printing.\n",
        "    \"\"\"\n",
        "    while unprinted_designs:\n",
        "        current_design = unprinted_designs.pop()\n",
        "        print(f\"Printing model: {current_design}\")\n",
        "        completed_models.append(current_design)\n",
        "\n",
        "def show_completed_models(completed_models):\n",
        "    \"\"\"Show all the models that were printed.\"\"\"\n",
        "    print(\"\\nThe following models have been printed:\")\n",
        "    for completed_model in completed_models:\n",
        "        print(completed_model)\n",
        "\n"
      ],
      "metadata": {
        "id": "d2v14isCBl7k"
      },
      "execution_count": 58,
      "outputs": []
    },
    {
      "cell_type": "code",
      "source": [
        "unprinted_designs = ['phone case', 'robot pendant', 'dodecahedron']\n",
        "completed_models = []\n",
        "\n"
      ],
      "metadata": {
        "id": "3F3aSIhnCJRS"
      },
      "execution_count": 59,
      "outputs": []
    },
    {
      "cell_type": "code",
      "source": [
        "print_models(unprinted_designs, completed_models)\n",
        "show_completed_models(completed_models)\n"
      ],
      "metadata": {
        "id": "wH-0lGn73esW",
        "outputId": "3909f014-4d29-40c6-f0a4-abf590bd9b5a",
        "colab": {
          "base_uri": "https://localhost:8080/"
        }
      },
      "execution_count": 60,
      "outputs": [
        {
          "output_type": "stream",
          "name": "stdout",
          "text": [
            "Printing model: dodecahedron\n",
            "Printing model: robot pendant\n",
            "Printing model: phone case\n",
            "\n",
            "The following models have been printed:\n",
            "dodecahedron\n",
            "robot pendant\n",
            "phone case\n"
          ]
        }
      ]
    },
    {
      "cell_type": "markdown",
      "source": [
        "---\n",
        "\n",
        "<b> Ejercicio 1</b>\n",
        "\n",
        "Haz una lista que contenga una serie de mensajes de texto cortos. Pase la lista a una función llamada **show_messages()**, que imprime cada mensaje de texto.\n"
      ],
      "metadata": {
        "id": "AxoQ8UkPLzhr"
      }
    },
    {
      "cell_type": "code",
      "source": [
        "def show_messages(lista):\n",
        "  \"\"\"Esta funcion imprime los mensajes\"\"\"\n",
        "  for msg in lista:\n",
        "    print(msg)\n",
        "\n",
        "short_messagges=['hola','adios','que tal']\n",
        "show_messages(short_messagges)"
      ],
      "metadata": {
        "colab": {
          "base_uri": "https://localhost:8080/"
        },
        "id": "rb-ojC_4ePd_",
        "outputId": "098b46fe-1aaf-420c-d6b9-6b62773d025f"
      },
      "execution_count": 55,
      "outputs": [
        {
          "output_type": "stream",
          "name": "stdout",
          "text": [
            "hola\n",
            "adios\n",
            "que tal\n"
          ]
        }
      ]
    },
    {
      "cell_type": "markdown",
      "source": [
        "---\n",
        "\n",
        "<b> Ejercicio 2</b>\n",
        "\n",
        "Comience con una copia de su programa del Ejercicio anterior. Escriba una función llamada **send_messages()** que imprima cada mensaje de texto y mueva cada mensaje a una nueva lista llamada sent_messages a medida que se imprime. Después de llamar a la función, imprima ambas listas para asegurarse de que los mensajes se movieron correctamente."
      ],
      "metadata": {
        "id": "cr6vkbj-L_4Q"
      }
    },
    {
      "cell_type": "markdown",
      "source": [
        "*La siguiente funcion transfiere pero mantiene la lista de mensajes original.*"
      ],
      "metadata": {
        "id": "fLkjxAdqP9cZ"
      }
    },
    {
      "cell_type": "code",
      "source": [
        "def show_messages(lista):\n",
        "  \"\"\"Esta funcion imprime los mensajes\"\"\"\n",
        "  for msg in lista:\n",
        "    print(msg)\n",
        "\n",
        "short_messages=['hola','adios','que tal']\n",
        "show_messages(short_messages)\n",
        "\n",
        "def send_messages(lista_mover):\n",
        "  \"\"\"Imprime cada mensaje y lo lleva a otra lista\"\"\"\n",
        "  for msg in lista_mover:      \n",
        "        print(f'Imprimiendo el siguiente texto: {msg}')\n",
        "        sent_messages.append(msg)\n",
        "\n",
        "sent_messages=[]\n",
        "send_messages(short_messages)\n",
        "\n",
        "print(f'La lista inicial contiene: {short_messages}')\n",
        "print(f'La lista sent_messages contiene: {sent_messages}')"
      ],
      "metadata": {
        "colab": {
          "base_uri": "https://localhost:8080/"
        },
        "id": "Or8Efaad2u0V",
        "outputId": "ebce2c0e-a870-4015-ac15-509ccafb5176"
      },
      "execution_count": 70,
      "outputs": [
        {
          "output_type": "stream",
          "name": "stdout",
          "text": [
            "hola\n",
            "adios\n",
            "que tal\n",
            "Imprimiendo el siguiente texto: hola\n",
            "Imprimiendo el siguiente texto: adios\n",
            "Imprimiendo el siguiente texto: que tal\n",
            "La lista inicial contiene: ['hola', 'adios', 'que tal']\n",
            "La lista sent_messages contiene: ['hola', 'adios', 'que tal']\n"
          ]
        }
      ]
    },
    {
      "cell_type": "markdown",
      "source": [
        "*La siguiente funcion transfiere pero elimina la lista de mensajes original.*"
      ],
      "metadata": {
        "id": "l_kWwZc6RX7g"
      }
    },
    {
      "cell_type": "code",
      "source": [
        "def show_messages(lista):\n",
        "  \"\"\"Esta funcion imprime los mensajes\"\"\"\n",
        "  for msg in lista:\n",
        "    print(msg)\n",
        "\n",
        "short_messages=['hola','adios','que tal']\n",
        "show_messages(short_messages)\n",
        "\n",
        "def send_messages(lista_mover):\n",
        "  \"\"\"Imprime cada mensaje y lo lleva a otra lista eliminadola de la lista inicial\"\"\"\n",
        "  while short_messages:\n",
        "        msg=short_messages.pop()     \n",
        "        print(f'Imprimiendo el siguiente texto: {msg}')\n",
        "        sent_messages.append(msg)\n",
        "\n",
        "sent_messages=[]\n",
        "send_messages(short_messages)\n",
        "\n",
        "print(f'La lista inicial contiene: {short_messages}')\n",
        "print(f'La lista sent_messages contiene: {sent_messages}')"
      ],
      "metadata": {
        "id": "2_XCVq0dQzUK",
        "outputId": "8816150b-49d7-4106-88e6-4db8c88d7c3b",
        "colab": {
          "base_uri": "https://localhost:8080/"
        }
      },
      "execution_count": 69,
      "outputs": [
        {
          "output_type": "stream",
          "name": "stdout",
          "text": [
            "hola\n",
            "adios\n",
            "que tal\n",
            "Imprimiendo el siguiente texto: que tal\n",
            "Imprimiendo el siguiente texto: adios\n",
            "Imprimiendo el siguiente texto: hola\n",
            "La lista inicial contiene: []\n",
            "La lista sent_messages contiene: ['que tal', 'adios', 'hola']\n"
          ]
        }
      ]
    },
    {
      "cell_type": "markdown",
      "source": [
        "---\n",
        "\n",
        "<b> Ejercicio 3</b>\n",
        "\n",
        "Comience con su trabajo del Ejercicio anterior. Llame a la función **send_messages()** con una copia de la lista de mensajes. Después de llamar a la función, imprima ambas listas para mostrar que la lista original ha conservado sus mensajes.\n",
        "\n",
        "---"
      ],
      "metadata": {
        "id": "DeKTopX9McDP"
      }
    },
    {
      "cell_type": "markdown",
      "source": [
        "*Se debe utilizar la primera funcion del ejercicio anterior*"
      ],
      "metadata": {
        "id": "lurk81FiRgHa"
      }
    },
    {
      "cell_type": "code",
      "source": [
        "short_messages=['hola','adios','que tal']\n",
        "sent_messages=[]\n",
        "send_messages(short_messages)\n",
        "\n",
        "print(f'La lista inicial contiene: {short_messages}')\n",
        "print(f'La lista sent_messages contiene: {sent_messages}')"
      ],
      "metadata": {
        "colab": {
          "base_uri": "https://localhost:8080/"
        },
        "id": "nWVFtwBg8K03",
        "outputId": "1a704678-9786-43a5-9454-eebc86b86024"
      },
      "execution_count": 71,
      "outputs": [
        {
          "output_type": "stream",
          "name": "stdout",
          "text": [
            "Imprimiendo el siguiente texto: hola\n",
            "Imprimiendo el siguiente texto: adios\n",
            "Imprimiendo el siguiente texto: que tal\n",
            "La lista inicial contiene: ['hola', 'adios', 'que tal']\n",
            "La lista sent_messages contiene: ['hola', 'adios', 'que tal']\n"
          ]
        }
      ]
    },
    {
      "cell_type": "markdown",
      "source": [
        "# 6. Pasar un número arbitrario de argumentos"
      ],
      "metadata": {
        "id": "Wnme938ANSqz"
      }
    },
    {
      "cell_type": "code",
      "source": [
        "def make_pizza(*toppings):\n",
        "    \"\"\"Print the list of toppings that have been requested.\"\"\"\n",
        "    print(toppings)\n"
      ],
      "metadata": {
        "id": "GqEL53UHDxWl"
      },
      "execution_count": null,
      "outputs": []
    },
    {
      "cell_type": "code",
      "source": [
        "make_pizza('pepperoni')"
      ],
      "metadata": {
        "id": "6QleoN8X63w-",
        "outputId": "b121fdcb-8826-42fb-dfda-74a1e58a82a4",
        "colab": {
          "base_uri": "https://localhost:8080/"
        }
      },
      "execution_count": null,
      "outputs": [
        {
          "output_type": "stream",
          "name": "stdout",
          "text": [
            "('pepperoni',)\n"
          ]
        }
      ]
    },
    {
      "cell_type": "code",
      "source": [
        "\n",
        "make_pizza('mushrooms', 'green peppers', 'extra cheese')"
      ],
      "metadata": {
        "colab": {
          "base_uri": "https://localhost:8080/"
        },
        "id": "SQgZl_dgDwue",
        "outputId": "001a5785-efd8-4f7b-b3c7-be072546ed42"
      },
      "execution_count": null,
      "outputs": [
        {
          "output_type": "stream",
          "name": "stdout",
          "text": [
            "('mushrooms', 'green peppers', 'extra cheese')\n"
          ]
        }
      ]
    },
    {
      "cell_type": "code",
      "source": [
        "def make_pizza(*toppings):\n",
        "  for c in toppings:\n",
        "    print(f\" - {c}\")\n",
        "\n",
        "make_pizza('peperoni','piña','queso')"
      ],
      "metadata": {
        "id": "kUPUI_4GMcVG",
        "outputId": "13ba0000-1fcd-46e6-a919-a9025ff569f9",
        "colab": {
          "base_uri": "https://localhost:8080/"
        }
      },
      "execution_count": null,
      "outputs": [
        {
          "output_type": "stream",
          "name": "stdout",
          "text": [
            " - peperoni\n",
            " - piña\n",
            " - queso\n"
          ]
        }
      ]
    },
    {
      "cell_type": "code",
      "source": [
        "def make_pizza(*toppings):\n",
        "    \"\"\"Summarize the pizza we are about to make.\"\"\"\n",
        "    print(\"\\nMaking a pizza with the following toppings:\")\n",
        "    for topping in toppings:\n",
        "        print(f\"- {topping}\")\n"
      ],
      "metadata": {
        "id": "_fejq6AGN0Uf"
      },
      "execution_count": null,
      "outputs": []
    },
    {
      "cell_type": "code",
      "source": [
        "make_pizza('pepperoni')\n",
        "make_pizza('mushrooms', 'green peppers', 'extra cheese')"
      ],
      "metadata": {
        "id": "-9hL5oSIN07z",
        "outputId": "0cb85272-66d5-404f-9f9b-4999dd3a0ce5",
        "colab": {
          "base_uri": "https://localhost:8080/"
        }
      },
      "execution_count": null,
      "outputs": [
        {
          "output_type": "stream",
          "name": "stdout",
          "text": [
            "\n",
            "Making a pizza with the following toppings:\n",
            "- pepperoni\n",
            "\n",
            "Making a pizza with the following toppings:\n",
            "- mushrooms\n",
            "- green peppers\n",
            "- extra cheese\n"
          ]
        }
      ]
    },
    {
      "cell_type": "markdown",
      "source": [
        "### Mezclar argumentos posicionales y arbitrarios"
      ],
      "metadata": {
        "id": "8NrI0kgCOLN2"
      }
    },
    {
      "cell_type": "code",
      "source": [
        "def make_pizza(size, *toppings):\n",
        "    \"\"\"Summarize the pizza we are about to make.\"\"\"\n",
        "    print(f\"\\nMaking a {size}-inch pizza with the following toppings:\")\n",
        "    for topping in toppings:\n",
        "        print(f\"- {topping}\")\n"
      ],
      "metadata": {
        "id": "LItqvKT2OMdS"
      },
      "execution_count": null,
      "outputs": []
    },
    {
      "cell_type": "code",
      "source": [
        "make_pizza(16, 'pepperoni')\n",
        "make_pizza(12, 'mushrooms', 'green peppers', 'extra cheese')"
      ],
      "metadata": {
        "id": "9OJO5HC0OTEP",
        "outputId": "7671c914-27f3-435a-9831-2233db4c8d26",
        "colab": {
          "base_uri": "https://localhost:8080/"
        }
      },
      "execution_count": null,
      "outputs": [
        {
          "output_type": "stream",
          "name": "stdout",
          "text": [
            "\n",
            "Making a 16-inch pizza with the following toppings:\n",
            "- pepperoni\n",
            "\n",
            "Making a 12-inch pizza with the following toppings:\n",
            "- mushrooms\n",
            "- green peppers\n",
            "- extra cheese\n"
          ]
        }
      ]
    },
    {
      "cell_type": "code",
      "source": [
        "def make_pizza(size, lista):\n",
        "    \"\"\"Summarize the pizza we are about to make.\"\"\"\n",
        "    print(f\"\\nMaking a {size}-inch pizza with the following toppings:\")\n",
        "    for topping in lista:\n",
        "        print(f\"- {topping}\")\n",
        "\n",
        "make_pizza(12, ['mushrooms', 'green peppers', 'extra cheese'])"
      ],
      "metadata": {
        "colab": {
          "base_uri": "https://localhost:8080/"
        },
        "id": "WnMyzDOLhOPs",
        "outputId": "893fab26-e2a8-4237-dcfc-5e510affd169"
      },
      "execution_count": null,
      "outputs": [
        {
          "output_type": "stream",
          "name": "stdout",
          "text": [
            "\n",
            "Making a 12-inch pizza with the following toppings:\n",
            "- mushrooms\n",
            "- green peppers\n",
            "- extra cheese\n"
          ]
        }
      ]
    },
    {
      "cell_type": "markdown",
      "source": [
        "### Uso de argumentos de palabras clave arbitrarias"
      ],
      "metadata": {
        "id": "N6DxNYhpO_PL"
      }
    },
    {
      "cell_type": "code",
      "source": [
        "my_dict= {'a':'a1',\n",
        " 'b':'b2'}"
      ],
      "metadata": {
        "id": "N7rGzzAi72fD"
      },
      "execution_count": null,
      "outputs": []
    },
    {
      "cell_type": "code",
      "source": [
        "my_dict['a']"
      ],
      "metadata": {
        "id": "xBUVzZSU756z",
        "outputId": "ab1b7502-9fc7-4f3f-9102-35715b199741",
        "colab": {
          "base_uri": "https://localhost:8080/",
          "height": 36
        }
      },
      "execution_count": null,
      "outputs": [
        {
          "output_type": "execute_result",
          "data": {
            "text/plain": [
              "'a1'"
            ],
            "application/vnd.google.colaboratory.intrinsic+json": {
              "type": "string"
            }
          },
          "metadata": {},
          "execution_count": 18
        }
      ]
    },
    {
      "cell_type": "code",
      "source": [
        "my_dict['a']='modificado'"
      ],
      "metadata": {
        "id": "W3IBecvHNj3N"
      },
      "execution_count": null,
      "outputs": []
    },
    {
      "cell_type": "code",
      "source": [
        "my_dict['a']"
      ],
      "metadata": {
        "id": "aeWW8TQ9Noed",
        "outputId": "91c0484a-6ca8-4467-82a8-3e4864528d8a",
        "colab": {
          "base_uri": "https://localhost:8080/",
          "height": 36
        }
      },
      "execution_count": null,
      "outputs": [
        {
          "output_type": "execute_result",
          "data": {
            "text/plain": [
              "'modificado'"
            ],
            "application/vnd.google.colaboratory.intrinsic+json": {
              "type": "string"
            }
          },
          "metadata": {},
          "execution_count": 20
        }
      ]
    },
    {
      "cell_type": "code",
      "source": [
        "ejemplo['elemento'] = 'esta es una creación de diccionario'"
      ],
      "metadata": {
        "id": "NL4dl5EsN8D1",
        "outputId": "e25301e3-0e5c-420d-9842-de9443712e94",
        "colab": {
          "base_uri": "https://localhost:8080/",
          "height": 165
        }
      },
      "execution_count": null,
      "outputs": [
        {
          "output_type": "error",
          "ename": "NameError",
          "evalue": "ignored",
          "traceback": [
            "\u001b[0;31m---------------------------------------------------------------------------\u001b[0m",
            "\u001b[0;31mNameError\u001b[0m                                 Traceback (most recent call last)",
            "\u001b[0;32m<ipython-input-27-b73a2237c3a3>\u001b[0m in \u001b[0;36m<module>\u001b[0;34m\u001b[0m\n\u001b[0;32m----> 1\u001b[0;31m \u001b[0mejemplo\u001b[0m\u001b[0;34m[\u001b[0m\u001b[0;34m'elemento'\u001b[0m\u001b[0;34m]\u001b[0m \u001b[0;34m=\u001b[0m \u001b[0;34m'esta es una creación de diccionario'\u001b[0m\u001b[0;34m\u001b[0m\u001b[0;34m\u001b[0m\u001b[0m\n\u001b[0m",
            "\u001b[0;31mNameError\u001b[0m: name 'ejemplo' is not defined"
          ]
        }
      ]
    },
    {
      "cell_type": "code",
      "source": [
        "def build_profile(**user_info):\n",
        "  user_info['elemento'] = 'esta es una creación del diccionario'\n",
        "  return user_info\n",
        "build_profile()"
      ],
      "metadata": {
        "id": "uyO_voS2N0z5",
        "outputId": "381d5be2-9ba2-41ff-93bb-f742cf3ccd1d",
        "colab": {
          "base_uri": "https://localhost:8080/"
        }
      },
      "execution_count": null,
      "outputs": [
        {
          "output_type": "execute_result",
          "data": {
            "text/plain": [
              "{'elemento': 'esta es una creación del diccionario'}"
            ]
          },
          "metadata": {},
          "execution_count": 26
        }
      ]
    },
    {
      "cell_type": "code",
      "source": [
        "user_info = {'first_name':'Antonio','last_name':'Campodonico'}"
      ],
      "metadata": {
        "id": "C1qLvDA8PJHG"
      },
      "execution_count": null,
      "outputs": []
    },
    {
      "cell_type": "code",
      "source": [
        "user_info = {'first_name_1':'Antonio','last_name_1':'Campodonico'}"
      ],
      "metadata": {
        "id": "lKDa-r7ePere"
      },
      "execution_count": null,
      "outputs": []
    },
    {
      "cell_type": "code",
      "source": [
        "and"
      ],
      "metadata": {
        "id": "lxbq22cGPuLl"
      },
      "execution_count": null,
      "outputs": []
    },
    {
      "cell_type": "code",
      "source": [
        "def build_profile(first, last, **user_info):\n",
        "    user_info['first_name'] = first\n",
        "    user_info['last_name'] = last\n",
        "    a=5\n",
        "    return user_info"
      ],
      "metadata": {
        "id": "rhb3JA_6OunH"
      },
      "execution_count": null,
      "outputs": []
    },
    {
      "cell_type": "code",
      "source": [
        "build_profile('John','Caballero')"
      ],
      "metadata": {
        "id": "wznh3YPfOxDm",
        "outputId": "f977b11f-7da9-4d4d-988d-f1e4707ed71a",
        "colab": {
          "base_uri": "https://localhost:8080/"
        }
      },
      "execution_count": null,
      "outputs": [
        {
          "output_type": "execute_result",
          "data": {
            "text/plain": [
              "{'first_name': 'John', 'last_name': 'Caballero'}"
            ]
          },
          "metadata": {},
          "execution_count": 34
        }
      ]
    },
    {
      "cell_type": "code",
      "source": [
        "def build_profile(first, last, **user_info):\n",
        "    \"\"\"Build a dictionary containing everything we know about a user.\"\"\"\n",
        "    user_info['first_name'] = first\n",
        "    user_info['last_name'] = last\n",
        "    return a, user_info\n"
      ],
      "metadata": {
        "id": "tXBMgW8JPAyn"
      },
      "execution_count": null,
      "outputs": []
    },
    {
      "cell_type": "code",
      "source": [
        "param,diccionario = build_profile('John','Caballero')"
      ],
      "metadata": {
        "id": "YOXem7uaQamT"
      },
      "execution_count": null,
      "outputs": []
    },
    {
      "cell_type": "code",
      "source": [
        "param"
      ],
      "metadata": {
        "id": "1YnULqhYQyrF",
        "outputId": "7c6a85b8-3db9-4ac4-ad52-7ca65668e49c",
        "colab": {
          "base_uri": "https://localhost:8080/",
          "height": 36
        }
      },
      "execution_count": null,
      "outputs": [
        {
          "output_type": "execute_result",
          "data": {
            "text/plain": [
              "'first_name'"
            ],
            "application/vnd.google.colaboratory.intrinsic+json": {
              "type": "string"
            }
          },
          "metadata": {},
          "execution_count": 37
        }
      ]
    },
    {
      "cell_type": "code",
      "source": [
        "a=0\n",
        "a"
      ],
      "metadata": {
        "id": "z2rs90-wREr5",
        "outputId": "45a684f6-395b-40e1-ef76-749e5073cd6e",
        "colab": {
          "base_uri": "https://localhost:8080/"
        }
      },
      "execution_count": null,
      "outputs": [
        {
          "output_type": "execute_result",
          "data": {
            "text/plain": [
              "0"
            ]
          },
          "metadata": {},
          "execution_count": 38
        }
      ]
    },
    {
      "cell_type": "code",
      "source": [
        "def build_profile(first, last, **user_info):\n",
        "    \"\"\"Build a dictionary containing everything we know about a user.\"\"\"\n",
        "    global a\n",
        "    user_info['first_name'] = first\n",
        "    user_info['last_name'] = last\n",
        "    a=5\n",
        "    return a, user_info\n"
      ],
      "metadata": {
        "id": "ZWzPLdt_RCK2"
      },
      "execution_count": null,
      "outputs": []
    },
    {
      "cell_type": "code",
      "source": [
        "build_profile('John','Caballero')"
      ],
      "metadata": {
        "id": "TxlSXvkdRHVq",
        "outputId": "1ea92cd1-c3e9-4a82-bd67-a6d1d086e2e4",
        "colab": {
          "base_uri": "https://localhost:8080/"
        }
      },
      "execution_count": null,
      "outputs": [
        {
          "output_type": "execute_result",
          "data": {
            "text/plain": [
              "(5, {'first_name': 'John', 'last_name': 'Caballero'})"
            ]
          },
          "metadata": {},
          "execution_count": 42
        }
      ]
    },
    {
      "cell_type": "code",
      "source": [
        "a"
      ],
      "metadata": {
        "id": "V5bv0dWLRJbW",
        "outputId": "903e94d5-4969-44fc-cfda-176e58aa8b82",
        "colab": {
          "base_uri": "https://localhost:8080/"
        }
      },
      "execution_count": null,
      "outputs": [
        {
          "output_type": "execute_result",
          "data": {
            "text/plain": [
              "5"
            ]
          },
          "metadata": {},
          "execution_count": 43
        }
      ]
    },
    {
      "cell_type": "code",
      "source": [
        "def build_profile(first, last, **user_info):\n",
        "    \"\"\"Build a dictionary containing everything we know about a user.\"\"\"\n",
        "    user_info['first_name'] = first\n",
        "    user_info['last_name'] = last\n",
        "    return user_info"
      ],
      "metadata": {
        "id": "zOYh2YjkRdv5"
      },
      "execution_count": null,
      "outputs": []
    },
    {
      "cell_type": "code",
      "source": [
        "user_profile = build_profile('albert', 'einstein')\n",
        "print(user_profile)"
      ],
      "metadata": {
        "id": "5Vgv0LQU8G_q",
        "outputId": "b16eedec-45c5-4c27-b6ad-99484121b75e",
        "colab": {
          "base_uri": "https://localhost:8080/"
        }
      },
      "execution_count": null,
      "outputs": [
        {
          "output_type": "stream",
          "name": "stdout",
          "text": [
            "{'first_name': 'albert', 'last_name': 'einstein'}\n"
          ]
        }
      ]
    },
    {
      "cell_type": "code",
      "source": [
        "user_profile = build_profile('albert', 'einstein',\n",
        "                             location='princeton',\n",
        "                             field='physics')\n",
        "print(user_profile)"
      ],
      "metadata": {
        "id": "uW5z9dNTPKyu",
        "outputId": "9856f170-ea4a-4e06-eecc-42490e48f5cf",
        "colab": {
          "base_uri": "https://localhost:8080/"
        }
      },
      "execution_count": null,
      "outputs": [
        {
          "output_type": "stream",
          "name": "stdout",
          "text": [
            "{'location': 'princeton', 'field': 'physics', 'first_name': 'albert', 'last_name': 'einstein'}\n"
          ]
        }
      ]
    },
    {
      "cell_type": "code",
      "source": [
        "user_profile = build_profile('John', 'Caballero',\n",
        "                             location='Peru',\n",
        "                             field='estadística',\n",
        "                             age=30,\n",
        "                             colour='azul',\n",
        "                             hobbie='guiatarra')\n",
        "print(user_profile)"
      ],
      "metadata": {
        "id": "NgTwtf_H8YKu",
        "outputId": "f678b997-1750-4ecf-839a-6f2635891a39",
        "colab": {
          "base_uri": "https://localhost:8080/"
        }
      },
      "execution_count": null,
      "outputs": [
        {
          "output_type": "stream",
          "name": "stdout",
          "text": [
            "{'location': 'Peru', 'field': 'estadística', 'age': 30, 'colour': 'azul', 'hobbie': 'guiatarra', 'first_name': 'John', 'last_name': 'Caballero'}\n"
          ]
        }
      ]
    },
    {
      "cell_type": "markdown",
      "source": [
        "---\n",
        "\n",
        "<b> Ejercicio 1</b>\n",
        "\n",
        "Escribe una función que acepte una lista de artículos que una persona quiere en un sándwich. La función debe tener un parámetro que recopile tantos elementos como proporcione la llamada a la función, y debe imprimir un resumen del sándwich que se está ordenando. Llame a la función tres veces, usando un número diferente de argumentos cada vez."
      ],
      "metadata": {
        "id": "0kYhXVPvQSh_"
      }
    },
    {
      "cell_type": "code",
      "source": [
        "def make_sandwich(*ingredientes):\n",
        "  \"\"\"Esta funcion lee ingredientes para un sandwich\"\"\"\n",
        "  print(\"\\nSe prepara un sandwich con los siguientes elementos:\"\"\")\n",
        "  for ingrediente in ingredientes:\n",
        "    print(f\"\\t- {ingrediente}\")\n",
        "\n",
        "make_sandwich (\"queso\",\"tomate\",\"papas\")\n",
        "make_sandwich (\"queso\",\"tomate\",\"papas\",\"huevo\",\"aji\")"
      ],
      "metadata": {
        "id": "HUbULVBJTEWG",
        "outputId": "80482b27-0876-47f2-9b18-b2a499137af8",
        "colab": {
          "base_uri": "https://localhost:8080/"
        }
      },
      "execution_count": 54,
      "outputs": [
        {
          "output_type": "stream",
          "name": "stdout",
          "text": [
            "\n",
            "Se prepara un sandwich con los siguientes elementos:\n",
            "\t- queso\n",
            "\t- tomate\n",
            "\t- papas\n",
            "\n",
            "Se prepara un sandwich con los siguientes elementos:\n",
            "\t- queso\n",
            "\t- tomate\n",
            "\t- papas\n",
            "\t- huevo\n",
            "\t- aji\n"
          ]
        }
      ]
    },
    {
      "cell_type": "markdown",
      "source": [
        "---\n",
        "\n",
        "<b> Ejercicio 2</b>\n",
        "\n",
        "Comience con una copia de **user_profile** de ***Uso de argumentos de palabras clave arbitrarias***. Cree un perfil de usted mismo llamando a **build_profile()**, usando su nombre y apellido y otros tres pares clave-valor que lo describan."
      ],
      "metadata": {
        "id": "NXvPqgVZQcx9"
      }
    },
    {
      "cell_type": "code",
      "source": [
        "def build_profile(first, last, **user_info):\n",
        "    \"\"\"Build a dictionary containing everything we know about a user.\"\"\"\n",
        "    user_info['first_name'] = first\n",
        "    user_info['last_name'] = last\n",
        "    return user_info\n",
        "user_profile = build_profile(\"Ivan\",\"Ataucuri\",\n",
        "                            edad=28,\n",
        "                            ocupación=\"Administrador\",\n",
        "                            pasatiempo=\"Ir al cine\")\n",
        "print(user_profile)"
      ],
      "metadata": {
        "id": "TV6Kz_WjVYmR",
        "outputId": "b6d45a9a-ae59-457f-f1b2-a3b530df7de5",
        "colab": {
          "base_uri": "https://localhost:8080/"
        }
      },
      "execution_count": 52,
      "outputs": [
        {
          "output_type": "stream",
          "name": "stdout",
          "text": [
            "{'edad': 28, 'ocupación': 'Administrador', 'pasatiempo': 'Ir al cine', 'first_name': 'Ivan', 'last_name': 'Ataucuri'}\n"
          ]
        }
      ]
    },
    {
      "cell_type": "markdown",
      "source": [
        "---\n",
        "\n",
        "<b> Ejercicio 3</b>\n",
        "\n",
        "Escribe una función que almacene información sobre un automóvil en un diccionario. La función siempre debe recibir un fabricante y un nombre de modelo. Entonces debería aceptar un número arbitrario de argumentos de palabras clave. Llame a la función con la información requerida y otros dos pares de nombre y valor, como un color o una función opcional. Su función debería funcionar para una llamada como esta:\n",
        "\n",
        "coche = **make_car**('subaru', 'outback', color='blue', tow_package=True)\n",
        "\n",
        "Imprima el diccionario que se devuelve para asegurarse de que toda la información se almacenó correctamente.\n",
        "\n",
        "---"
      ],
      "metadata": {
        "id": "gpj7y6NYQjLq"
      }
    },
    {
      "cell_type": "code",
      "source": [
        "def make_car(fabricante, modelo, **car_info):\n",
        "    \"\"\"Build a dictionary containing everything we know about a car.\"\"\"\n",
        "    car_info['car_fabricante'] = fabricante\n",
        "    car_info['car_modelo'] = modelo\n",
        "    return car_info\n",
        "coche = make_car(\"subaru\",\"outback\",\n",
        "                            color='blue',\n",
        "                            tow_package=True)\n",
        "print(coche)"
      ],
      "metadata": {
        "id": "rrLOwfQjg7zd",
        "outputId": "a9d24a51-cf4b-4300-dee6-3c6eead965cd",
        "colab": {
          "base_uri": "https://localhost:8080/"
        }
      },
      "execution_count": 51,
      "outputs": [
        {
          "output_type": "stream",
          "name": "stdout",
          "text": [
            "{'color': 'blue', 'tow_package': True, 'car_fabricante': 'subaru', 'car_modelo': 'outback'}\n"
          ]
        }
      ]
    },
    {
      "cell_type": "markdown",
      "source": [
        "# 7. Almacenamiento de funciones en módulos"
      ],
      "metadata": {
        "id": "Ut0OnphvWeOw"
      }
    },
    {
      "cell_type": "markdown",
      "source": [
        "### Importar funciones específicas"
      ],
      "metadata": {
        "id": "qML64F41WRTX"
      }
    },
    {
      "cell_type": "code",
      "source": [
        "del make_sandwich"
      ],
      "metadata": {
        "id": "WVMStY9_ZGuP"
      },
      "execution_count": null,
      "outputs": []
    },
    {
      "cell_type": "code",
      "source": [
        "make_sandwich"
      ],
      "metadata": {
        "id": "vlwfjDq1ZMzf",
        "outputId": "87e129f6-95f4-4228-870a-29b2a1e154d7",
        "colab": {
          "base_uri": "https://localhost:8080/",
          "height": 165
        }
      },
      "execution_count": null,
      "outputs": [
        {
          "output_type": "error",
          "ename": "NameError",
          "evalue": "ignored",
          "traceback": [
            "\u001b[0;31m---------------------------------------------------------------------------\u001b[0m",
            "\u001b[0;31mNameError\u001b[0m                                 Traceback (most recent call last)",
            "\u001b[0;32m<ipython-input-64-15be60167402>\u001b[0m in \u001b[0;36m<module>\u001b[0;34m\u001b[0m\n\u001b[0;32m----> 1\u001b[0;31m \u001b[0mmake_sandwich\u001b[0m\u001b[0;34m\u001b[0m\u001b[0;34m\u001b[0m\u001b[0m\n\u001b[0m",
            "\u001b[0;31mNameError\u001b[0m: name 'make_sandwich' is not defined"
          ]
        }
      ]
    },
    {
      "cell_type": "code",
      "source": [
        "from mis_funciones import make_sandwich"
      ],
      "metadata": {
        "id": "oLt942aV-KiI"
      },
      "execution_count": null,
      "outputs": []
    },
    {
      "cell_type": "code",
      "source": [
        "make_sandwich('Queso', 'Doble jamón', 'papas')"
      ],
      "metadata": {
        "id": "C5oRUNh6-UUA",
        "outputId": "9bad1443-b3f2-4b32-d689-28259dcad1d5",
        "colab": {
          "base_uri": "https://localhost:8080/"
        }
      },
      "execution_count": null,
      "outputs": [
        {
          "output_type": "stream",
          "name": "stdout",
          "text": [
            "\n",
            "Se prepara un sandwich con los siguientes elementos:\n",
            "\t- Queso\n",
            "\t- Doble jamón\n",
            "\t- papas\n"
          ]
        }
      ]
    },
    {
      "cell_type": "code",
      "source": [
        "from pizza import make_pizza"
      ],
      "metadata": {
        "id": "cA4XkhylQYhn"
      },
      "execution_count": null,
      "outputs": []
    },
    {
      "cell_type": "code",
      "source": [
        "make_pizza(16, 'pepperoni')\n",
        "make_pizza(12, 'mushrooms', 'green peppers', 'extra cheese')"
      ],
      "metadata": {
        "id": "eesDvKLZVehZ",
        "outputId": "fbc25d68-90b8-49a2-c545-50213bebb3ac",
        "colab": {
          "base_uri": "https://localhost:8080/"
        }
      },
      "execution_count": null,
      "outputs": [
        {
          "output_type": "stream",
          "name": "stdout",
          "text": [
            "\n",
            "Making a 16-inch pizza with the following toppings:\n",
            "- pepperoni\n",
            "\n",
            "Making a 12-inch pizza with the following toppings:\n",
            "- mushrooms\n",
            "- green peppers\n",
            "- extra cheese\n"
          ]
        }
      ]
    },
    {
      "cell_type": "markdown",
      "source": [
        "### Uso de as para dar un alias a una función"
      ],
      "metadata": {
        "id": "c4ojH2gyWAYW"
      }
    },
    {
      "cell_type": "code",
      "source": [
        "from pizza import make_pizza as mp\n",
        "\n",
        "mp(16, 'pepperoni')\n",
        "mp(12, 'mushrooms', 'green peppers', 'extra cheese')"
      ],
      "metadata": {
        "id": "h6WyN6L9VliG",
        "outputId": "363e5f45-a04c-41f7-a3cc-2799c1ffa3ab",
        "colab": {
          "base_uri": "https://localhost:8080/"
        }
      },
      "execution_count": null,
      "outputs": [
        {
          "output_type": "stream",
          "name": "stdout",
          "text": [
            "\n",
            "Making a 16-inch pizza with the following toppings:\n",
            "- pepperoni\n",
            "\n",
            "Making a 12-inch pizza with the following toppings:\n",
            "- mushrooms\n",
            "- green peppers\n",
            "- extra cheese\n"
          ]
        }
      ]
    },
    {
      "cell_type": "code",
      "source": [
        "from pizza import make_pizza as mf\n",
        "\n",
        "mf(16, 'pepperoni')\n",
        "mf(12, 'mushrooms', 'green peppers', 'extra cheese')"
      ],
      "metadata": {
        "id": "_OlFJ9s-azVP",
        "outputId": "a26bd7e7-0017-457f-f2a2-11ef3fcce71b",
        "colab": {
          "base_uri": "https://localhost:8080/"
        }
      },
      "execution_count": null,
      "outputs": [
        {
          "output_type": "stream",
          "name": "stdout",
          "text": [
            "\n",
            "Making a 16-inch pizza with the following toppings:\n",
            "- pepperoni\n",
            "\n",
            "Making a 12-inch pizza with the following toppings:\n",
            "- mushrooms\n",
            "- green peppers\n",
            "- extra cheese\n"
          ]
        }
      ]
    },
    {
      "cell_type": "markdown",
      "source": [
        "### Uso de as para dar un alias a un módulo"
      ],
      "metadata": {
        "id": "vYeRmZSCVxE8"
      }
    },
    {
      "cell_type": "code",
      "source": [
        "import pizza as p\n",
        "\n",
        "p.make_pizza(16, 'pepperoni')\n",
        "p.make_pizza(12, 'mushrooms', 'green peppers', 'extra cheese')"
      ],
      "metadata": {
        "id": "ErMJcae6VrqE",
        "outputId": "cf961d5a-8243-47c7-c970-dcc590ddfdee",
        "colab": {
          "base_uri": "https://localhost:8080/"
        }
      },
      "execution_count": null,
      "outputs": [
        {
          "output_type": "stream",
          "name": "stdout",
          "text": [
            "\n",
            "Making a 16-inch pizza with the following toppings:\n",
            "- pepperoni\n",
            "\n",
            "Making a 12-inch pizza with the following toppings:\n",
            "- mushrooms\n",
            "- green peppers\n",
            "- extra cheese\n"
          ]
        }
      ]
    },
    {
      "cell_type": "markdown",
      "source": [
        "# 8. Introducción a Clases"
      ],
      "metadata": {
        "id": "zl5-pV1XfXi1"
      }
    },
    {
      "cell_type": "markdown",
      "source": [
        "Una función que es parte de una clase es un método. Todo lo que aprendió sobre las funciones también se aplica a los métodos; la única diferencia práctica por ahora es la forma en que llamaremos a los métodos."
      ],
      "metadata": {
        "id": "Zm1Zg6mGd-GW"
      }
    },
    {
      "cell_type": "markdown",
      "source": [
        "**El método Init**\n",
        "\n",
        "El método __init__() es un método especial que Python ejecuta automáticamente cada vez que creamos una nueva instancia basada en la clase Dog. Este método tiene dos guiones bajos iniciales y dos guiones bajos finales, una convención que ayuda a evitar que los nombres de métodos predeterminados de Python entren en conflicto con los nombres de sus métodos. Asegúrese de usar dos guiones bajos a cada lado de __init__(). Si usa solo uno en cada lado, el método no se llamará automáticamente cuando use su clase, lo que puede generar errores que son difíciles de identificar."
      ],
      "metadata": {
        "id": "7N1Jxb6ceSRx"
      }
    },
    {
      "cell_type": "code",
      "source": [
        "def __init__():\n",
        "  print('hola')\n",
        "\n",
        "__init__()"
      ],
      "metadata": {
        "id": "GzS8tAZYd65o",
        "outputId": "f385b6f9-3a4e-49e8-eff6-e6116bc5d2f9",
        "colab": {
          "base_uri": "https://localhost:8080/"
        }
      },
      "execution_count": null,
      "outputs": [
        {
          "output_type": "stream",
          "name": "stdout",
          "text": [
            "hola\n"
          ]
        }
      ]
    },
    {
      "cell_type": "code",
      "source": [
        "del __init__"
      ],
      "metadata": {
        "id": "SQreYs2KePfa"
      },
      "execution_count": null,
      "outputs": []
    },
    {
      "cell_type": "code",
      "source": [
        "class Dog:\n",
        "    \"\"\"A simple attempt to model a dog.\"\"\"\n",
        "    def __init__(self, name, age,tipo):\n",
        "        \"\"\"Initialize name and age attributes.\"\"\"\n",
        "        self.name = name\n",
        "        self.age = age\n",
        "        self.raza=tipo\n",
        "\n",
        "    def sit(self):\n",
        "        \"\"\"Simulate a dog sitting in response to a command.\"\"\"\n",
        "        print(f\"{self.name} esta sentado.\")\n",
        "\n",
        "    def roll_over(self):\n",
        "        \"\"\"Simulate rolling over in response to a command.\"\"\"\n",
        "        print(f\"{self.name} esta rodando!\")\n",
        "\n",
        "    def print_raza(self):\n",
        "      \"\"\"Imprime raza\"\"\"\n",
        "      print(f\"La raza de mi perro es: {self.raza}\")"
      ],
      "metadata": {
        "id": "flog3R7bdvZn"
      },
      "execution_count": 22,
      "outputs": []
    },
    {
      "cell_type": "code",
      "source": [
        "my_dog = Dog('Willie', 6,'Chihuahua')"
      ],
      "metadata": {
        "id": "ekZkhZeud1HN"
      },
      "execution_count": 27,
      "outputs": []
    },
    {
      "cell_type": "code",
      "source": [
        "my_dog.name"
      ],
      "metadata": {
        "id": "8WLgzo8ifJO5",
        "outputId": "5dcb1f65-cde2-4fc7-e5dc-f893c28bbe77",
        "colab": {
          "base_uri": "https://localhost:8080/",
          "height": 36
        }
      },
      "execution_count": 26,
      "outputs": [
        {
          "output_type": "execute_result",
          "data": {
            "text/plain": [
              "'Willie'"
            ],
            "application/vnd.google.colaboratory.intrinsic+json": {
              "type": "string"
            }
          },
          "metadata": {},
          "execution_count": 26
        }
      ]
    },
    {
      "cell_type": "code",
      "source": [
        "my_dog.age"
      ],
      "metadata": {
        "id": "p5wIw-ArfOS0",
        "outputId": "d6d76b43-cca1-4ffe-98c5-6b90723bfa2c",
        "colab": {
          "base_uri": "https://localhost:8080/"
        }
      },
      "execution_count": 25,
      "outputs": [
        {
          "output_type": "execute_result",
          "data": {
            "text/plain": [
              "6"
            ]
          },
          "metadata": {},
          "execution_count": 25
        }
      ]
    },
    {
      "cell_type": "code",
      "source": [
        "my_dog.raza"
      ],
      "metadata": {
        "id": "tZY4ZVv0L_kK",
        "outputId": "dc472f74-6857-441a-8a8f-6cfe25a86593",
        "colab": {
          "base_uri": "https://localhost:8080/",
          "height": 36
        }
      },
      "execution_count": 24,
      "outputs": [
        {
          "output_type": "execute_result",
          "data": {
            "text/plain": [
              "'Chihuahua'"
            ],
            "application/vnd.google.colaboratory.intrinsic+json": {
              "type": "string"
            }
          },
          "metadata": {},
          "execution_count": 24
        }
      ]
    },
    {
      "cell_type": "code",
      "source": [
        "my_dog.sit()"
      ],
      "metadata": {
        "id": "R0Y5Nj0JfQ7I",
        "outputId": "1fdb240d-5c4c-4191-c462-afd3a4653cf1",
        "colab": {
          "base_uri": "https://localhost:8080/"
        }
      },
      "execution_count": null,
      "outputs": [
        {
          "output_type": "stream",
          "name": "stdout",
          "text": [
            "Willie esta sentado.\n"
          ]
        }
      ]
    },
    {
      "cell_type": "code",
      "source": [
        "my_dog.roll_over()"
      ],
      "metadata": {
        "id": "5JXF4ebXfTu4",
        "outputId": "e5dd3c73-7f89-4247-dc8c-0290780b9f4e",
        "colab": {
          "base_uri": "https://localhost:8080/"
        }
      },
      "execution_count": null,
      "outputs": [
        {
          "output_type": "stream",
          "name": "stdout",
          "text": [
            "Willie esta rodando!\n"
          ]
        }
      ]
    },
    {
      "cell_type": "code",
      "source": [
        "print(f\"El nombre de mi perro es {my_dog.name}.\")"
      ],
      "metadata": {
        "id": "Vi5yplZPe61f",
        "outputId": "66208e36-7b06-41a8-c821-10f699e720b6",
        "colab": {
          "base_uri": "https://localhost:8080/"
        }
      },
      "execution_count": null,
      "outputs": [
        {
          "output_type": "stream",
          "name": "stdout",
          "text": [
            "El nombre de mi perro es Willie.\n"
          ]
        }
      ]
    },
    {
      "cell_type": "code",
      "source": [
        "print(f\"Mi perro tiene {my_dog.age} años.\")"
      ],
      "metadata": {
        "id": "Uaf2In0sfBfO",
        "outputId": "b84849dc-6287-4b84-ea0a-02fbb3fd2925",
        "colab": {
          "base_uri": "https://localhost:8080/"
        }
      },
      "execution_count": null,
      "outputs": [
        {
          "output_type": "stream",
          "name": "stdout",
          "text": [
            "Mi perro tiene 6 años.\n"
          ]
        }
      ]
    },
    {
      "cell_type": "code",
      "source": [
        "my_dog.print_raza()"
      ],
      "metadata": {
        "id": "-xBpcK5vgURy",
        "outputId": "bc2c235d-74fe-4589-a9df-2e5a93eaa46d",
        "colab": {
          "base_uri": "https://localhost:8080/"
        }
      },
      "execution_count": null,
      "outputs": [
        {
          "output_type": "stream",
          "name": "stdout",
          "text": [
            "La raza de mi perro es: Chihuahua\n"
          ]
        }
      ]
    },
    {
      "cell_type": "markdown",
      "source": [
        "### Llamando métodos de la clase"
      ],
      "metadata": {
        "id": "EpkCSrR6fqEh"
      }
    },
    {
      "cell_type": "code",
      "source": [
        "my_dog.sit()"
      ],
      "metadata": {
        "id": "bcqIi7zPfmVh",
        "outputId": "06b207be-c073-47f8-d902-72654bf2321f",
        "colab": {
          "base_uri": "https://localhost:8080/"
        }
      },
      "execution_count": null,
      "outputs": [
        {
          "output_type": "stream",
          "name": "stdout",
          "text": [
            "Willie esta sentado.\n"
          ]
        }
      ]
    },
    {
      "cell_type": "code",
      "source": [
        "my_dog.roll_over()"
      ],
      "metadata": {
        "id": "RhFLCn3Eftjz",
        "outputId": "e4cabdde-abf5-483d-9bc6-0b42c8aec3db",
        "colab": {
          "base_uri": "https://localhost:8080/"
        }
      },
      "execution_count": null,
      "outputs": [
        {
          "output_type": "stream",
          "name": "stdout",
          "text": [
            "Willie esta rodando!\n"
          ]
        }
      ]
    },
    {
      "cell_type": "markdown",
      "source": [
        "### Creando múltiples instancias"
      ],
      "metadata": {
        "id": "yqpTqtBrf5pF"
      }
    },
    {
      "cell_type": "code",
      "source": [
        "my_dog = Dog('Willie', 6,'Chihuahua')\n",
        "your_dog = Dog('Lucy', 3,'Bulldog')\n"
      ],
      "metadata": {
        "id": "MsHtLxOrf-nB"
      },
      "execution_count": null,
      "outputs": []
    },
    {
      "cell_type": "code",
      "source": [
        "print(f\"El nombre de mi perro es {my_dog.name}.\")\n",
        "print(f\"Mi perro tiene {my_dog.age} años.\")\n",
        "my_dog.sit()\n"
      ],
      "metadata": {
        "colab": {
          "base_uri": "https://localhost:8080/"
        },
        "id": "ia8YHqsWf_T0",
        "outputId": "b134a532-04f3-4704-cb08-e46fa2a41e31"
      },
      "execution_count": null,
      "outputs": [
        {
          "output_type": "stream",
          "name": "stdout",
          "text": [
            "El nombre de mi perro es Willie.\n",
            "Mi perro tiene 6 años.\n",
            "Willie esta sentado.\n"
          ]
        }
      ]
    },
    {
      "cell_type": "code",
      "source": [
        "print(f\"\\nEl nombre de tu perro es {your_dog.name}.\")\n",
        "print(f\"Tu perro tiene {your_dog.age} años.\")\n",
        "your_dog.sit()"
      ],
      "metadata": {
        "id": "woRDon1-gBV0",
        "outputId": "d90bce17-7e2f-49c3-b49e-6a5f5e047c4a",
        "colab": {
          "base_uri": "https://localhost:8080/"
        }
      },
      "execution_count": null,
      "outputs": [
        {
          "output_type": "stream",
          "name": "stdout",
          "text": [
            "\n",
            "El nombre de tu perro es Lucy.\n",
            "Tu perro tiene 3 años.\n",
            "Lucy esta sentado.\n"
          ]
        }
      ]
    },
    {
      "cell_type": "markdown",
      "source": [
        "---\n",
        "\n",
        "<b> Ejercicio 1</b>\n",
        "\n",
        "Haz una clase llamada Restaurante. El método __init__() para Restaurante debe almacenar dos atributos: un nombre_restaurante y un tipo_cocina. Cree un método llamado describe_restaurant() que imprima estos dos datos y un método llamado open_restaurant() que imprima un mensaje que indique que el restaurante está abierto.\n",
        "\n",
        "Cree una instancia llamada restaurante de su clase. Imprima los dos atributos individualmente y luego llame a ambos métodos."
      ],
      "metadata": {
        "id": "kp8q0QVDgqkZ"
      }
    },
    {
      "cell_type": "code",
      "source": [
        "class Restaurante:\n",
        "  \"\"\"Esta función tiene como objetivo servir a los procesos de mi restaurante\"\"\"\n",
        "\n",
        "  def __init__(self,nombre_restaurante,tipo_cocina):\n",
        "    \"\"\"Inicializacion\"\"\"\n",
        "    self.nombre_restaurante=nombre_restaurante\n",
        "    self.tipo_cocina=tipo_cocina\n",
        "\n",
        "  def describe_restaurant(self):\n",
        "    \"\"\"Imprime nombre y tipo de restaurante\"\"\"\n",
        "    print(f\"Mi restaurante se llama {self.nombre_restaurante} y el tipo de cocina es {self.tipo_cocina}\")\n",
        "\n",
        "  def open_restaurant(self):\n",
        "    \"\"\"Imprime la apertura del restaurante\"\"\"\n",
        "    print(\"El restaurante está abierto\")"
      ],
      "metadata": {
        "id": "KqJjPJlui0x6"
      },
      "execution_count": 28,
      "outputs": []
    },
    {
      "cell_type": "code",
      "source": [
        "my_rest = Restaurante('Gaston Acurio', 'Criolla')"
      ],
      "metadata": {
        "id": "kkVZF-lTBS-S"
      },
      "execution_count": 29,
      "outputs": []
    },
    {
      "cell_type": "code",
      "source": [
        "my_rest.nombre_restaurante"
      ],
      "metadata": {
        "id": "Nb2A0lTlBd8O",
        "outputId": "8e473bfa-0a51-486c-dade-77405166e047",
        "colab": {
          "base_uri": "https://localhost:8080/",
          "height": 36
        }
      },
      "execution_count": 30,
      "outputs": [
        {
          "output_type": "execute_result",
          "data": {
            "text/plain": [
              "'Gaston Acurio'"
            ],
            "application/vnd.google.colaboratory.intrinsic+json": {
              "type": "string"
            }
          },
          "metadata": {},
          "execution_count": 30
        }
      ]
    },
    {
      "cell_type": "code",
      "source": [
        "my_rest.tipo_cocina"
      ],
      "metadata": {
        "id": "jXrYE1llLg0C",
        "outputId": "4e1cb9e7-e730-42fc-92f0-5aa8b489ea5a",
        "colab": {
          "base_uri": "https://localhost:8080/",
          "height": 36
        }
      },
      "execution_count": 31,
      "outputs": [
        {
          "output_type": "execute_result",
          "data": {
            "text/plain": [
              "'Criolla'"
            ],
            "application/vnd.google.colaboratory.intrinsic+json": {
              "type": "string"
            }
          },
          "metadata": {},
          "execution_count": 31
        }
      ]
    },
    {
      "cell_type": "code",
      "source": [
        "my_rest.describe_restaurant()"
      ],
      "metadata": {
        "id": "Xmx3--qlBhrG",
        "outputId": "0721632c-6d77-410f-892f-2ddb5422e3f5",
        "colab": {
          "base_uri": "https://localhost:8080/"
        }
      },
      "execution_count": 32,
      "outputs": [
        {
          "output_type": "stream",
          "name": "stdout",
          "text": [
            "Mi restaurante se llama Gaston Acurio y el tipo de cocina es Criolla\n"
          ]
        }
      ]
    },
    {
      "cell_type": "code",
      "source": [
        "my_rest.open_restaurant()"
      ],
      "metadata": {
        "id": "bpm8vBr2B5mT",
        "outputId": "4ec4d3be-4ebf-49ad-ad42-f49b24678a3b",
        "colab": {
          "base_uri": "https://localhost:8080/"
        }
      },
      "execution_count": 33,
      "outputs": [
        {
          "output_type": "stream",
          "name": "stdout",
          "text": [
            "El restaurante está abierto\n"
          ]
        }
      ]
    },
    {
      "cell_type": "markdown",
      "source": [
        "---\n",
        "\n",
        "<b> Ejercicio 2</b>\n",
        "\n",
        "Comience con su clase del Ejercicio anterior. Cree tres instancias diferentes de la clase y llame a **describe_restaurant**() para cada instancia."
      ],
      "metadata": {
        "id": "uD1V4MnYgxO2"
      }
    },
    {
      "cell_type": "code",
      "source": [
        "my_rest1 = restaurante('Gaston Acurio', 'Criolla')\n",
        "my_rest2 = restaurante('Señor Limon', 'Marina')\n",
        "my_rest3 = restaurante('Charrua', 'Carnes')"
      ],
      "metadata": {
        "id": "_OeMpa-OCCIm"
      },
      "execution_count": 34,
      "outputs": []
    },
    {
      "cell_type": "code",
      "source": [
        "my_rest1.describe_restaurant() "
      ],
      "metadata": {
        "id": "cbxcp9m8CNNF",
        "outputId": "4ba06c19-df10-4b42-a1dc-932aeb51f36e",
        "colab": {
          "base_uri": "https://localhost:8080/"
        }
      },
      "execution_count": 35,
      "outputs": [
        {
          "output_type": "stream",
          "name": "stdout",
          "text": [
            "Mi restaurante se llama Gaston Acurio y el tipo de cocina es Criolla\n"
          ]
        }
      ]
    },
    {
      "cell_type": "code",
      "source": [
        "my_rest2.describe_restaurant() "
      ],
      "metadata": {
        "id": "qiLUedoKCRGo",
        "outputId": "0e9dd0ee-ece9-494a-ad96-e8aaba27ee74",
        "colab": {
          "base_uri": "https://localhost:8080/"
        }
      },
      "execution_count": 36,
      "outputs": [
        {
          "output_type": "stream",
          "name": "stdout",
          "text": [
            "Mi restaurante se llama Señor Limon y el tipo de cocina es Marina\n"
          ]
        }
      ]
    },
    {
      "cell_type": "code",
      "source": [
        "my_rest2.open_restaurant() "
      ],
      "metadata": {
        "id": "HodlFW0ukzcg",
        "outputId": "8cbb51f9-0e7b-4950-b743-b6985521e490",
        "colab": {
          "base_uri": "https://localhost:8080/"
        }
      },
      "execution_count": 37,
      "outputs": [
        {
          "output_type": "stream",
          "name": "stdout",
          "text": [
            "El restaurante está abierto\n"
          ]
        }
      ]
    },
    {
      "cell_type": "markdown",
      "source": [
        "---\n",
        "\n",
        "<b> Ejercicio 3</b>\n",
        "\n",
        "Haz una clase llamada Usuario. Cree dos atributos llamados **first_name** y **last_name**, y luego cree varios otros atributos que normalmente se almacenan en un perfil de usuario. Cree un método llamado **describe_user**() que imprima un resumen de la información del usuario. Cree otro método llamado **greeting_user**() que imprima un saludo personalizado para el usuario.\n",
        "\n",
        "Cree varias instancias que representen a diferentes usuarios y llame a ambos métodos para cada usuario.\n",
        "\n",
        "---"
      ],
      "metadata": {
        "id": "PlqVFUueg2QI"
      }
    },
    {
      "cell_type": "code",
      "source": [
        "class Usuario:\n",
        "  \"\"\"Esta función tiene como objetivo procesar los datos de una persona\"\"\"\n",
        "\n",
        "  def __init__(self,first_name,last_name,edad,sexo):\n",
        "    \"\"\"Inicializacion\"\"\"\n",
        "    self.first_name=first_name\n",
        "    self.last_name=last_name\n",
        "    self.edad=edad\n",
        "    self.sexo=sexo\n",
        "\n",
        "  def describe_user(self):\n",
        "    \"\"\"Imprime la data de la persona\"\"\"\n",
        "    print(f\"Mi nombre es {self.first_name}, mi apellido {self.last_name}, con edad de {self.edad} años e identificado como {self.sexo} \")\n",
        "\n",
        "  def greeting_user(self):\n",
        "    \"\"\"Imprime un saludo a la persona\"\"\"\n",
        "    print(f\"Bienvenido {self.first_name} {self.last_name}, gracias por compartir tus datos personales con nosotros\")"
      ],
      "metadata": {
        "id": "jOVJm7IogtS0"
      },
      "execution_count": 47,
      "outputs": []
    },
    {
      "cell_type": "code",
      "source": [
        "persona1=Usuario('Ivan','Ataucuri',28,'Hombre')\n",
        "persona2=Usuario('Cesar','Perez',50,'Hombre')\n",
        "persona3=Usuario('Andrea','Quiroz',35,'Mujer')"
      ],
      "metadata": {
        "id": "y8X9oqxbNE0J"
      },
      "execution_count": 48,
      "outputs": []
    },
    {
      "cell_type": "code",
      "source": [
        "persona1.describe_user()\n",
        "persona2.describe_user()\n",
        "persona3.describe_user()"
      ],
      "metadata": {
        "id": "FjdoXaPtNXOq",
        "outputId": "9487c403-5f22-466a-8e3a-c045f838b305",
        "colab": {
          "base_uri": "https://localhost:8080/"
        }
      },
      "execution_count": 49,
      "outputs": [
        {
          "output_type": "stream",
          "name": "stdout",
          "text": [
            "Mi nombre es Ivan, mi apellido Ataucuri, con edad de 28 años e identificado como Hombre \n",
            "Mi nombre es Cesar, mi apellido Perez, con edad de 50 años e identificado como Hombre \n",
            "Mi nombre es Andrea, mi apellido Quiroz, con edad de 35 años e identificado como Mujer \n"
          ]
        }
      ]
    },
    {
      "cell_type": "code",
      "source": [
        "persona1.greeting_user()\n",
        "persona2.greeting_user()\n",
        "persona3.greeting_user()"
      ],
      "metadata": {
        "id": "hbEQQxDfN7FU",
        "outputId": "30e627fa-00aa-48fc-e3f8-40175ecfb206",
        "colab": {
          "base_uri": "https://localhost:8080/"
        }
      },
      "execution_count": 50,
      "outputs": [
        {
          "output_type": "stream",
          "name": "stdout",
          "text": [
            "Bienvenido Ivan Ataucuri, gracias por compartir tus datos personales con nosotros\n",
            "Bienvenido Cesar Perez, gracias por compartir tus datos personales con nosotros\n",
            "Bienvenido Andrea Quiroz, gracias por compartir tus datos personales con nosotros\n"
          ]
        }
      ]
    },
    {
      "cell_type": "markdown",
      "source": [
        "---\n",
        "\n",
        "# Gracias por completar este laboratorio!\n",
        "\n",
        "---\n"
      ],
      "metadata": {
        "id": "MXXM4w69aIll"
      }
    }
  ]
}